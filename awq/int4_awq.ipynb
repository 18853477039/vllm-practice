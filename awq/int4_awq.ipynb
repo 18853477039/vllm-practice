{
 "cells": [
  {
   "cell_type": "code",
   "execution_count": 1,
   "id": "initial_id",
   "metadata": {
    "ExecuteTime": {
     "end_time": "2025-03-13T14:14:16.239952Z",
     "start_time": "2025-03-13T14:14:08.004219Z"
    }
   },
   "outputs": [
    {
     "name": "stdout",
     "output_type": "stream",
     "text": [
      "Looking in indexes: http://mirrors.aliyun.com/pypi/simple\n",
      "Requirement already satisfied: vllm in /root/miniconda3/lib/python3.12/site-packages (0.7.3)\n",
      "Requirement already satisfied: matplotlib in /root/miniconda3/lib/python3.12/site-packages (3.9.0)\n",
      "Requirement already satisfied: autoawq in /root/miniconda3/lib/python3.12/site-packages (0.2.7.post3)\n",
      "Requirement already satisfied: accelerate in /root/miniconda3/lib/python3.12/site-packages (1.5.1)\n",
      "Requirement already satisfied: psutil in /root/miniconda3/lib/python3.12/site-packages (from vllm) (5.9.8)\n",
      "Requirement already satisfied: sentencepiece in /root/miniconda3/lib/python3.12/site-packages (from vllm) (0.2.0)\n",
      "Requirement already satisfied: numpy<2.0.0 in /root/miniconda3/lib/python3.12/site-packages (from vllm) (1.26.4)\n",
      "Requirement already satisfied: numba==0.60.0 in /root/miniconda3/lib/python3.12/site-packages (from vllm) (0.60.0)\n",
      "Requirement already satisfied: requests>=2.26.0 in /root/miniconda3/lib/python3.12/site-packages (from vllm) (2.32.3)\n",
      "Requirement already satisfied: tqdm in /root/miniconda3/lib/python3.12/site-packages (from vllm) (4.67.1)\n",
      "Requirement already satisfied: blake3 in /root/miniconda3/lib/python3.12/site-packages (from vllm) (1.0.4)\n",
      "Requirement already satisfied: py-cpuinfo in /root/miniconda3/lib/python3.12/site-packages (from vllm) (9.0.0)\n",
      "Requirement already satisfied: transformers>=4.48.2 in /root/miniconda3/lib/python3.12/site-packages (from vllm) (4.49.0)\n",
      "Requirement already satisfied: tokenizers>=0.19.1 in /root/miniconda3/lib/python3.12/site-packages (from vllm) (0.21.0)\n",
      "Requirement already satisfied: protobuf in /root/miniconda3/lib/python3.12/site-packages (from vllm) (5.27.0)\n",
      "Requirement already satisfied: fastapi!=0.113.*,!=0.114.0,>=0.107.0 in /root/miniconda3/lib/python3.12/site-packages (from fastapi[standard]!=0.113.*,!=0.114.0,>=0.107.0; python_version >= \"3.9\"->vllm) (0.115.11)\n",
      "Requirement already satisfied: aiohttp in /root/miniconda3/lib/python3.12/site-packages (from vllm) (3.11.13)\n",
      "Requirement already satisfied: openai>=1.52.0 in /root/miniconda3/lib/python3.12/site-packages (from vllm) (1.65.2)\n",
      "Requirement already satisfied: pydantic>=2.9 in /root/miniconda3/lib/python3.12/site-packages (from vllm) (2.10.6)\n",
      "Requirement already satisfied: prometheus_client>=0.18.0 in /root/miniconda3/lib/python3.12/site-packages (from vllm) (0.20.0)\n",
      "Requirement already satisfied: pillow in /root/miniconda3/lib/python3.12/site-packages (from vllm) (10.3.0)\n",
      "Requirement already satisfied: prometheus-fastapi-instrumentator>=7.0.0 in /root/miniconda3/lib/python3.12/site-packages (from vllm) (7.0.2)\n",
      "Requirement already satisfied: tiktoken>=0.6.0 in /root/miniconda3/lib/python3.12/site-packages (from vllm) (0.9.0)\n",
      "Requirement already satisfied: lm-format-enforcer<0.11,>=0.10.9 in /root/miniconda3/lib/python3.12/site-packages (from vllm) (0.10.11)\n",
      "Requirement already satisfied: outlines==0.1.11 in /root/miniconda3/lib/python3.12/site-packages (from vllm) (0.1.11)\n",
      "Requirement already satisfied: lark==1.2.2 in /root/miniconda3/lib/python3.12/site-packages (from vllm) (1.2.2)\n",
      "Requirement already satisfied: xgrammar==0.1.11 in /root/miniconda3/lib/python3.12/site-packages (from vllm) (0.1.11)\n",
      "Requirement already satisfied: typing_extensions>=4.10 in /root/miniconda3/lib/python3.12/site-packages (from vllm) (4.12.2)\n",
      "Requirement already satisfied: filelock>=3.16.1 in /root/miniconda3/lib/python3.12/site-packages (from vllm) (3.17.0)\n",
      "Requirement already satisfied: partial-json-parser in /root/miniconda3/lib/python3.12/site-packages (from vllm) (0.2.1.1.post5)\n",
      "Requirement already satisfied: pyzmq in /root/miniconda3/lib/python3.12/site-packages (from vllm) (26.0.3)\n",
      "Requirement already satisfied: msgspec in /root/miniconda3/lib/python3.12/site-packages (from vllm) (0.19.0)\n",
      "Requirement already satisfied: gguf==0.10.0 in /root/miniconda3/lib/python3.12/site-packages (from vllm) (0.10.0)\n",
      "Requirement already satisfied: importlib_metadata in /root/miniconda3/lib/python3.12/site-packages (from vllm) (8.6.1)\n",
      "Requirement already satisfied: mistral_common>=1.5.0 in /root/miniconda3/lib/python3.12/site-packages (from mistral_common[opencv]>=1.5.0->vllm) (1.5.3)\n",
      "Requirement already satisfied: pyyaml in /root/miniconda3/lib/python3.12/site-packages (from vllm) (6.0.1)\n",
      "Requirement already satisfied: six>=1.16.0 in /root/miniconda3/lib/python3.12/site-packages (from vllm) (1.16.0)\n",
      "Requirement already satisfied: setuptools>=74.1.1 in /root/miniconda3/lib/python3.12/site-packages (from vllm) (76.0.0)\n",
      "Requirement already satisfied: einops in /root/miniconda3/lib/python3.12/site-packages (from vllm) (0.8.1)\n",
      "Requirement already satisfied: compressed-tensors==0.9.1 in /root/miniconda3/lib/python3.12/site-packages (from vllm) (0.9.1)\n",
      "Requirement already satisfied: depyf==0.18.0 in /root/miniconda3/lib/python3.12/site-packages (from vllm) (0.18.0)\n",
      "Requirement already satisfied: cloudpickle in /root/miniconda3/lib/python3.12/site-packages (from vllm) (3.1.1)\n",
      "Requirement already satisfied: ray==2.40.0 in /root/miniconda3/lib/python3.12/site-packages (from ray[adag]==2.40.0->vllm) (2.40.0)\n",
      "Requirement already satisfied: torch==2.5.1 in /root/miniconda3/lib/python3.12/site-packages (from vllm) (2.5.1)\n",
      "Requirement already satisfied: torchaudio==2.5.1 in /root/miniconda3/lib/python3.12/site-packages (from vllm) (2.5.1)\n",
      "Requirement already satisfied: torchvision==0.20.1 in /root/miniconda3/lib/python3.12/site-packages (from vllm) (0.20.1)\n",
      "Requirement already satisfied: xformers==0.0.28.post3 in /root/miniconda3/lib/python3.12/site-packages (from vllm) (0.0.28.post3)\n",
      "Requirement already satisfied: astor in /root/miniconda3/lib/python3.12/site-packages (from depyf==0.18.0->vllm) (0.8.1)\n",
      "Requirement already satisfied: dill in /root/miniconda3/lib/python3.12/site-packages (from depyf==0.18.0->vllm) (0.3.8)\n",
      "Requirement already satisfied: llvmlite<0.44,>=0.43.0dev0 in /root/miniconda3/lib/python3.12/site-packages (from numba==0.60.0->vllm) (0.43.0)\n",
      "Requirement already satisfied: interegular in /root/miniconda3/lib/python3.12/site-packages (from outlines==0.1.11->vllm) (0.3.3)\n",
      "Requirement already satisfied: jinja2 in /root/miniconda3/lib/python3.12/site-packages (from outlines==0.1.11->vllm) (3.1.6)\n",
      "Requirement already satisfied: nest_asyncio in /root/miniconda3/lib/python3.12/site-packages (from outlines==0.1.11->vllm) (1.6.0)\n",
      "Requirement already satisfied: diskcache in /root/miniconda3/lib/python3.12/site-packages (from outlines==0.1.11->vllm) (5.6.3)\n",
      "Requirement already satisfied: referencing in /root/miniconda3/lib/python3.12/site-packages (from outlines==0.1.11->vllm) (0.35.1)\n",
      "Requirement already satisfied: jsonschema in /root/miniconda3/lib/python3.12/site-packages (from outlines==0.1.11->vllm) (4.22.0)\n",
      "Requirement already satisfied: pycountry in /root/miniconda3/lib/python3.12/site-packages (from outlines==0.1.11->vllm) (24.6.1)\n",
      "Requirement already satisfied: airportsdata in /root/miniconda3/lib/python3.12/site-packages (from outlines==0.1.11->vllm) (20250224)\n",
      "Requirement already satisfied: outlines_core==0.1.26 in /root/miniconda3/lib/python3.12/site-packages (from outlines==0.1.11->vllm) (0.1.26)\n",
      "Requirement already satisfied: click>=7.0 in /root/miniconda3/lib/python3.12/site-packages (from ray==2.40.0->ray[adag]==2.40.0->vllm) (8.1.8)\n",
      "Requirement already satisfied: msgpack<2.0.0,>=1.0.0 in /root/miniconda3/lib/python3.12/site-packages (from ray==2.40.0->ray[adag]==2.40.0->vllm) (1.1.0)\n",
      "Requirement already satisfied: packaging in /root/miniconda3/lib/python3.12/site-packages (from ray==2.40.0->ray[adag]==2.40.0->vllm) (23.2)\n",
      "Requirement already satisfied: aiosignal in /root/miniconda3/lib/python3.12/site-packages (from ray==2.40.0->ray[adag]==2.40.0->vllm) (1.3.2)\n",
      "Requirement already satisfied: frozenlist in /root/miniconda3/lib/python3.12/site-packages (from ray==2.40.0->ray[adag]==2.40.0->vllm) (1.5.0)\n",
      "Requirement already satisfied: cupy-cuda12x in /root/miniconda3/lib/python3.12/site-packages (from ray[adag]==2.40.0->vllm) (13.4.0)\n",
      "Requirement already satisfied: networkx in /root/miniconda3/lib/python3.12/site-packages (from torch==2.5.1->vllm) (3.3)\n",
      "Requirement already satisfied: fsspec in /root/miniconda3/lib/python3.12/site-packages (from torch==2.5.1->vllm) (2024.5.0)\n",
      "Requirement already satisfied: nvidia-cuda-nvrtc-cu12==12.4.127 in /root/miniconda3/lib/python3.12/site-packages (from torch==2.5.1->vllm) (12.4.127)\n",
      "Requirement already satisfied: nvidia-cuda-runtime-cu12==12.4.127 in /root/miniconda3/lib/python3.12/site-packages (from torch==2.5.1->vllm) (12.4.127)\n",
      "Requirement already satisfied: nvidia-cuda-cupti-cu12==12.4.127 in /root/miniconda3/lib/python3.12/site-packages (from torch==2.5.1->vllm) (12.4.127)\n",
      "Requirement already satisfied: nvidia-cudnn-cu12==9.1.0.70 in /root/miniconda3/lib/python3.12/site-packages (from torch==2.5.1->vllm) (9.1.0.70)\n",
      "Requirement already satisfied: nvidia-cublas-cu12==12.4.5.8 in /root/miniconda3/lib/python3.12/site-packages (from torch==2.5.1->vllm) (12.4.5.8)\n",
      "Requirement already satisfied: nvidia-cufft-cu12==11.2.1.3 in /root/miniconda3/lib/python3.12/site-packages (from torch==2.5.1->vllm) (11.2.1.3)\n",
      "Requirement already satisfied: nvidia-curand-cu12==10.3.5.147 in /root/miniconda3/lib/python3.12/site-packages (from torch==2.5.1->vllm) (10.3.5.147)\n",
      "Requirement already satisfied: nvidia-cusolver-cu12==11.6.1.9 in /root/miniconda3/lib/python3.12/site-packages (from torch==2.5.1->vllm) (11.6.1.9)\n",
      "Requirement already satisfied: nvidia-cusparse-cu12==12.3.1.170 in /root/miniconda3/lib/python3.12/site-packages (from torch==2.5.1->vllm) (12.3.1.170)\n",
      "Requirement already satisfied: nvidia-nccl-cu12==2.21.5 in /root/miniconda3/lib/python3.12/site-packages (from torch==2.5.1->vllm) (2.21.5)\n",
      "Requirement already satisfied: nvidia-nvtx-cu12==12.4.127 in /root/miniconda3/lib/python3.12/site-packages (from torch==2.5.1->vllm) (12.4.127)\n",
      "Requirement already satisfied: nvidia-nvjitlink-cu12==12.4.127 in /root/miniconda3/lib/python3.12/site-packages (from torch==2.5.1->vllm) (12.4.127)\n",
      "Requirement already satisfied: triton==3.1.0 in /root/miniconda3/lib/python3.12/site-packages (from torch==2.5.1->vllm) (3.1.0)\n",
      "Requirement already satisfied: sympy==1.13.1 in /root/miniconda3/lib/python3.12/site-packages (from torch==2.5.1->vllm) (1.13.1)\n",
      "Requirement already satisfied: pybind11 in /root/miniconda3/lib/python3.12/site-packages (from xgrammar==0.1.11->vllm) (2.13.6)\n",
      "Requirement already satisfied: pytest in /root/miniconda3/lib/python3.12/site-packages (from xgrammar==0.1.11->vllm) (8.3.5)\n",
      "Requirement already satisfied: mpmath<1.4,>=1.1.0 in /root/miniconda3/lib/python3.12/site-packages (from sympy==1.13.1->torch==2.5.1->vllm) (1.3.0)\n",
      "Requirement already satisfied: contourpy>=1.0.1 in /root/miniconda3/lib/python3.12/site-packages (from matplotlib) (1.2.1)\n",
      "Requirement already satisfied: cycler>=0.10 in /root/miniconda3/lib/python3.12/site-packages (from matplotlib) (0.12.1)\n",
      "Requirement already satisfied: fonttools>=4.22.0 in /root/miniconda3/lib/python3.12/site-packages (from matplotlib) (4.53.0)\n",
      "Requirement already satisfied: kiwisolver>=1.3.1 in /root/miniconda3/lib/python3.12/site-packages (from matplotlib) (1.4.5)\n",
      "Requirement already satisfied: pyparsing>=2.3.1 in /root/miniconda3/lib/python3.12/site-packages (from matplotlib) (3.1.2)\n",
      "Requirement already satisfied: python-dateutil>=2.7 in /root/miniconda3/lib/python3.12/site-packages (from matplotlib) (2.9.0.post0)\n",
      "Requirement already satisfied: datasets>=2.20 in /root/miniconda3/lib/python3.12/site-packages (from autoawq) (3.3.2)\n",
      "Requirement already satisfied: zstandard in /root/miniconda3/lib/python3.12/site-packages (from autoawq) (0.22.0)\n",
      "Requirement already satisfied: huggingface_hub>=0.26.5 in /root/miniconda3/lib/python3.12/site-packages (from autoawq) (0.29.1)\n",
      "Requirement already satisfied: safetensors>=0.4.3 in /root/miniconda3/lib/python3.12/site-packages (from accelerate) (0.5.3)\n",
      "Requirement already satisfied: pyarrow>=15.0.0 in /root/miniconda3/lib/python3.12/site-packages (from datasets>=2.20->autoawq) (19.0.1)\n",
      "Requirement already satisfied: pandas in /root/miniconda3/lib/python3.12/site-packages (from datasets>=2.20->autoawq) (2.2.3)\n",
      "Requirement already satisfied: xxhash in /root/miniconda3/lib/python3.12/site-packages (from datasets>=2.20->autoawq) (3.5.0)\n",
      "Requirement already satisfied: multiprocess<0.70.17 in /root/miniconda3/lib/python3.12/site-packages (from datasets>=2.20->autoawq) (0.70.16)\n",
      "Requirement already satisfied: starlette<0.47.0,>=0.40.0 in /root/miniconda3/lib/python3.12/site-packages (from fastapi!=0.113.*,!=0.114.0,>=0.107.0->fastapi[standard]!=0.113.*,!=0.114.0,>=0.107.0; python_version >= \"3.9\"->vllm) (0.46.1)\n",
      "Requirement already satisfied: fastapi-cli>=0.0.5 in /root/miniconda3/lib/python3.12/site-packages (from fastapi-cli[standard]>=0.0.5; extra == \"standard\"->fastapi[standard]!=0.113.*,!=0.114.0,>=0.107.0; python_version >= \"3.9\"->vllm) (0.0.7)\n",
      "Requirement already satisfied: httpx>=0.23.0 in /root/miniconda3/lib/python3.12/site-packages (from fastapi[standard]!=0.113.*,!=0.114.0,>=0.107.0; python_version >= \"3.9\"->vllm) (0.27.0)\n",
      "Requirement already satisfied: python-multipart>=0.0.18 in /root/miniconda3/lib/python3.12/site-packages (from fastapi[standard]!=0.113.*,!=0.114.0,>=0.107.0; python_version >= \"3.9\"->vllm) (0.0.20)\n",
      "Requirement already satisfied: email-validator>=2.0.0 in /root/miniconda3/lib/python3.12/site-packages (from fastapi[standard]!=0.113.*,!=0.114.0,>=0.107.0; python_version >= \"3.9\"->vllm) (2.2.0)\n",
      "Requirement already satisfied: uvicorn>=0.12.0 in /root/miniconda3/lib/python3.12/site-packages (from uvicorn[standard]>=0.12.0; extra == \"standard\"->fastapi[standard]!=0.113.*,!=0.114.0,>=0.107.0; python_version >= \"3.9\"->vllm) (0.34.0)\n",
      "Requirement already satisfied: opencv-python-headless>=4.0.0 in /root/miniconda3/lib/python3.12/site-packages (from mistral_common[opencv]>=1.5.0->vllm) (4.11.0.86)\n",
      "Requirement already satisfied: anyio<5,>=3.5.0 in /root/miniconda3/lib/python3.12/site-packages (from openai>=1.52.0->vllm) (4.4.0)\n",
      "Requirement already satisfied: distro<2,>=1.7.0 in /root/miniconda3/lib/python3.12/site-packages (from openai>=1.52.0->vllm) (1.9.0)\n",
      "Requirement already satisfied: jiter<1,>=0.4.0 in /root/miniconda3/lib/python3.12/site-packages (from openai>=1.52.0->vllm) (0.8.2)\n",
      "Requirement already satisfied: sniffio in /root/miniconda3/lib/python3.12/site-packages (from openai>=1.52.0->vllm) (1.3.1)\n",
      "Requirement already satisfied: annotated-types>=0.6.0 in /root/miniconda3/lib/python3.12/site-packages (from pydantic>=2.9->vllm) (0.7.0)\n",
      "Requirement already satisfied: pydantic-core==2.27.2 in /root/miniconda3/lib/python3.12/site-packages (from pydantic>=2.9->vllm) (2.27.2)\n",
      "Requirement already satisfied: charset-normalizer<4,>=2 in /root/miniconda3/lib/python3.12/site-packages (from requests>=2.26.0->vllm) (2.0.4)\n",
      "Requirement already satisfied: idna<4,>=2.5 in /root/miniconda3/lib/python3.12/site-packages (from requests>=2.26.0->vllm) (3.7)\n",
      "Requirement already satisfied: urllib3<3,>=1.21.1 in /root/miniconda3/lib/python3.12/site-packages (from requests>=2.26.0->vllm) (2.1.0)\n",
      "Requirement already satisfied: certifi>=2017.4.17 in /root/miniconda3/lib/python3.12/site-packages (from requests>=2.26.0->vllm) (2024.2.2)\n",
      "Requirement already satisfied: regex>=2022.1.18 in /root/miniconda3/lib/python3.12/site-packages (from tiktoken>=0.6.0->vllm) (2024.11.6)\n",
      "Requirement already satisfied: aiohappyeyeballs>=2.3.0 in /root/miniconda3/lib/python3.12/site-packages (from aiohttp->vllm) (2.4.6)\n",
      "Requirement already satisfied: attrs>=17.3.0 in /root/miniconda3/lib/python3.12/site-packages (from aiohttp->vllm) (23.2.0)\n",
      "Requirement already satisfied: multidict<7.0,>=4.5 in /root/miniconda3/lib/python3.12/site-packages (from aiohttp->vllm) (6.1.0)\n",
      "Requirement already satisfied: propcache>=0.2.0 in /root/miniconda3/lib/python3.12/site-packages (from aiohttp->vllm) (0.3.0)\n",
      "Requirement already satisfied: yarl<2.0,>=1.17.0 in /root/miniconda3/lib/python3.12/site-packages (from aiohttp->vllm) (1.18.3)\n",
      "Requirement already satisfied: zipp>=3.20 in /root/miniconda3/lib/python3.12/site-packages (from importlib_metadata->vllm) (3.21.0)\n",
      "Requirement already satisfied: dnspython>=2.0.0 in /root/miniconda3/lib/python3.12/site-packages (from email-validator>=2.0.0->fastapi[standard]!=0.113.*,!=0.114.0,>=0.107.0; python_version >= \"3.9\"->vllm) (2.7.0)\n",
      "Requirement already satisfied: typer>=0.12.3 in /root/miniconda3/lib/python3.12/site-packages (from fastapi-cli>=0.0.5->fastapi-cli[standard]>=0.0.5; extra == \"standard\"->fastapi[standard]!=0.113.*,!=0.114.0,>=0.107.0; python_version >= \"3.9\"->vllm) (0.15.2)\n",
      "Requirement already satisfied: rich-toolkit>=0.11.1 in /root/miniconda3/lib/python3.12/site-packages (from fastapi-cli>=0.0.5->fastapi-cli[standard]>=0.0.5; extra == \"standard\"->fastapi[standard]!=0.113.*,!=0.114.0,>=0.107.0; python_version >= \"3.9\"->vllm) (0.13.2)\n",
      "Requirement already satisfied: httpcore==1.* in /root/miniconda3/lib/python3.12/site-packages (from httpx>=0.23.0->fastapi[standard]!=0.113.*,!=0.114.0,>=0.107.0; python_version >= \"3.9\"->vllm) (1.0.5)\n",
      "Requirement already satisfied: h11<0.15,>=0.13 in /root/miniconda3/lib/python3.12/site-packages (from httpcore==1.*->httpx>=0.23.0->fastapi[standard]!=0.113.*,!=0.114.0,>=0.107.0; python_version >= \"3.9\"->vllm) (0.14.0)\n",
      "Requirement already satisfied: MarkupSafe>=2.0 in /root/miniconda3/lib/python3.12/site-packages (from jinja2->outlines==0.1.11->vllm) (2.1.5)\n",
      "Requirement already satisfied: jsonschema-specifications>=2023.03.6 in /root/miniconda3/lib/python3.12/site-packages (from jsonschema->outlines==0.1.11->vllm) (2023.12.1)\n",
      "Requirement already satisfied: rpds-py>=0.7.1 in /root/miniconda3/lib/python3.12/site-packages (from jsonschema->outlines==0.1.11->vllm) (0.18.1)\n",
      "Requirement already satisfied: httptools>=0.6.3 in /root/miniconda3/lib/python3.12/site-packages (from uvicorn[standard]>=0.12.0; extra == \"standard\"->fastapi[standard]!=0.113.*,!=0.114.0,>=0.107.0; python_version >= \"3.9\"->vllm) (0.6.4)\n",
      "Requirement already satisfied: python-dotenv>=0.13 in /root/miniconda3/lib/python3.12/site-packages (from uvicorn[standard]>=0.12.0; extra == \"standard\"->fastapi[standard]!=0.113.*,!=0.114.0,>=0.107.0; python_version >= \"3.9\"->vllm) (1.0.1)\n",
      "Requirement already satisfied: uvloop!=0.15.0,!=0.15.1,>=0.14.0 in /root/miniconda3/lib/python3.12/site-packages (from uvicorn[standard]>=0.12.0; extra == \"standard\"->fastapi[standard]!=0.113.*,!=0.114.0,>=0.107.0; python_version >= \"3.9\"->vllm) (0.21.0)\n",
      "Requirement already satisfied: watchfiles>=0.13 in /root/miniconda3/lib/python3.12/site-packages (from uvicorn[standard]>=0.12.0; extra == \"standard\"->fastapi[standard]!=0.113.*,!=0.114.0,>=0.107.0; python_version >= \"3.9\"->vllm) (1.0.4)\n",
      "Requirement already satisfied: websockets>=10.4 in /root/miniconda3/lib/python3.12/site-packages (from uvicorn[standard]>=0.12.0; extra == \"standard\"->fastapi[standard]!=0.113.*,!=0.114.0,>=0.107.0; python_version >= \"3.9\"->vllm) (15.0)\n",
      "Requirement already satisfied: fastrlock>=0.5 in /root/miniconda3/lib/python3.12/site-packages (from cupy-cuda12x->ray[adag]==2.40.0->vllm) (0.8.3)\n",
      "Requirement already satisfied: pytz>=2020.1 in /root/miniconda3/lib/python3.12/site-packages (from pandas->datasets>=2.20->autoawq) (2025.1)\n",
      "Requirement already satisfied: tzdata>=2022.7 in /root/miniconda3/lib/python3.12/site-packages (from pandas->datasets>=2.20->autoawq) (2025.1)\n",
      "Requirement already satisfied: iniconfig in /root/miniconda3/lib/python3.12/site-packages (from pytest->xgrammar==0.1.11->vllm) (2.0.0)\n",
      "Requirement already satisfied: pluggy<2,>=1.5 in /root/miniconda3/lib/python3.12/site-packages (from pytest->xgrammar==0.1.11->vllm) (1.5.0)\n",
      "Requirement already satisfied: rich>=13.7.1 in /root/miniconda3/lib/python3.12/site-packages (from rich-toolkit>=0.11.1->fastapi-cli>=0.0.5->fastapi-cli[standard]>=0.0.5; extra == \"standard\"->fastapi[standard]!=0.113.*,!=0.114.0,>=0.107.0; python_version >= \"3.9\"->vllm) (13.9.4)\n",
      "Requirement already satisfied: shellingham>=1.3.0 in /root/miniconda3/lib/python3.12/site-packages (from typer>=0.12.3->fastapi-cli>=0.0.5->fastapi-cli[standard]>=0.0.5; extra == \"standard\"->fastapi[standard]!=0.113.*,!=0.114.0,>=0.107.0; python_version >= \"3.9\"->vllm) (1.5.4)\n",
      "Requirement already satisfied: markdown-it-py>=2.2.0 in /root/miniconda3/lib/python3.12/site-packages (from rich>=13.7.1->rich-toolkit>=0.11.1->fastapi-cli>=0.0.5->fastapi-cli[standard]>=0.0.5; extra == \"standard\"->fastapi[standard]!=0.113.*,!=0.114.0,>=0.107.0; python_version >= \"3.9\"->vllm) (3.0.0)\n",
      "Requirement already satisfied: pygments<3.0.0,>=2.13.0 in /root/miniconda3/lib/python3.12/site-packages (from rich>=13.7.1->rich-toolkit>=0.11.1->fastapi-cli>=0.0.5->fastapi-cli[standard]>=0.0.5; extra == \"standard\"->fastapi[standard]!=0.113.*,!=0.114.0,>=0.107.0; python_version >= \"3.9\"->vllm) (2.18.0)\n",
      "Requirement already satisfied: mdurl~=0.1 in /root/miniconda3/lib/python3.12/site-packages (from markdown-it-py>=2.2.0->rich>=13.7.1->rich-toolkit>=0.11.1->fastapi-cli>=0.0.5->fastapi-cli[standard]>=0.0.5; extra == \"standard\"->fastapi[standard]!=0.113.*,!=0.114.0,>=0.107.0; python_version >= \"3.9\"->vllm) (0.1.2)\n",
      "\u001B[33mWARNING: Running pip as the 'root' user can result in broken permissions and conflicting behaviour with the system package manager. It is recommended to use a virtual environment instead: https://pip.pypa.io/warnings/venv\u001B[0m\u001B[33m\n",
      "\u001B[0m"
     ]
    }
   ],
   "source": [
    "!pip install vllm matplotlib autoawq accelerate"
   ]
  },
  {
   "cell_type": "code",
   "execution_count": 2,
   "id": "c2e85766f26519e7",
   "metadata": {
    "ExecuteTime": {
     "end_time": "2025-03-13T14:14:35.926892Z",
     "start_time": "2025-03-13T14:14:23.934178Z"
    }
   },
   "outputs": [],
   "source": [
    "from vllm import LLM, SamplingParams\n",
    "import time"
   ]
  },
  {
   "cell_type": "code",
   "execution_count": 3,
   "id": "3cb02671d4a8b737",
   "metadata": {
    "ExecuteTime": {
     "end_time": "2025-03-13T13:54:51.230875Z",
     "start_time": "2025-03-13T13:54:51.225782Z"
    }
   },
   "outputs": [],
   "source": [
    "prompts = [\n",
    "    \"Hello, my name is\",\n",
    "    \"The president of the United States is\",\n",
    "    \"The capital of France is\",\n",
    "    \"The future of AI is\",\n",
    "]\n",
    "max_tokens = 10\n",
    "sampling_params = SamplingParams(temperature=0.8, top_p=0.95, max_tokens=max_tokens)"
   ]
  },
  {
   "cell_type": "code",
   "execution_count": 4,
   "id": "09ec77b9-dd2a-4afe-9589-b45ba732eae7",
   "metadata": {},
   "outputs": [
    {
     "name": "stdout",
     "output_type": "stream",
     "text": [
      "INFO 03-15 02:17:03 __init__.py:207] Automatically detected platform cuda.\n",
      "INFO 03-15 02:17:11 config.py:549] This model supports multiple tasks: {'embed', 'classify', 'reward', 'score', 'generate'}. Defaulting to 'generate'.\n",
      "INFO 03-15 02:17:11 llm_engine.py:234] Initializing a V0 LLM engine (v0.7.3) with config: model='/root/autodl-fs/data2/root/.cache/modelscope/hub/Qwen/Qwen2-7B-Instruct', speculative_config=None, tokenizer='/root/autodl-fs/data2/root/.cache/modelscope/hub/Qwen/Qwen2-7B-Instruct', skip_tokenizer_init=False, tokenizer_mode=auto, revision=None, override_neuron_config=None, tokenizer_revision=None, trust_remote_code=False, dtype=torch.bfloat16, max_seq_len=32768, download_dir=None, load_format=LoadFormat.AUTO, tensor_parallel_size=1, pipeline_parallel_size=1, disable_custom_all_reduce=False, quantization=None, enforce_eager=False, kv_cache_dtype=auto,  device_config=cuda, decoding_config=DecodingConfig(guided_decoding_backend='xgrammar'), observability_config=ObservabilityConfig(otlp_traces_endpoint=None, collect_model_forward_time=False, collect_model_execute_time=False), seed=0, served_model_name=/root/autodl-fs/data2/root/.cache/modelscope/hub/Qwen/Qwen2-7B-Instruct, num_scheduler_steps=1, multi_step_stream_outputs=True, enable_prefix_caching=False, chunked_prefill_enabled=False, use_async_output_proc=True, disable_mm_preprocessor_cache=False, mm_processor_kwargs=None, pooler_config=None, compilation_config={\"splitting_ops\":[],\"compile_sizes\":[],\"cudagraph_capture_sizes\":[256,248,240,232,224,216,208,200,192,184,176,168,160,152,144,136,128,120,112,104,96,88,80,72,64,56,48,40,32,24,16,8,4,2,1],\"max_capture_size\":256}, use_cached_outputs=False, \n",
      "INFO 03-15 02:17:13 cuda.py:229] Using Flash Attention backend.\n",
      "INFO 03-15 02:17:13 model_runner.py:1110] Starting to load model /root/autodl-fs/data2/root/.cache/modelscope/hub/Qwen/Qwen2-7B-Instruct...\n"
     ]
    },
    {
     "data": {
      "application/vnd.jupyter.widget-view+json": {
       "model_id": "3737799e1ba44e98b580e46840f3c8d0",
       "version_major": 2,
       "version_minor": 0
      },
      "text/plain": [
       "Loading safetensors checkpoint shards:   0% Completed | 0/4 [00:00<?, ?it/s]\n"
      ]
     },
     "metadata": {},
     "output_type": "display_data"
    },
    {
     "name": "stdout",
     "output_type": "stream",
     "text": [
      "INFO 03-15 02:18:14 model_runner.py:1115] Loading model weights took 14.2487 GB\n",
      "INFO 03-15 02:18:18 worker.py:267] Memory profiling takes 3.27 seconds\n",
      "INFO 03-15 02:18:18 worker.py:267] the current vLLM instance can use total_gpu_memory (23.64GiB) x gpu_memory_utilization (0.90) = 21.28GiB\n",
      "INFO 03-15 02:18:18 worker.py:267] model weights take 14.25GiB; non_torch_memory takes 0.08GiB; PyTorch activation peak memory takes 4.35GiB; the rest of the memory reserved for KV Cache is 2.60GiB.\n",
      "INFO 03-15 02:18:18 executor_base.py:111] # cuda blocks: 3044, # CPU blocks: 4681\n",
      "INFO 03-15 02:18:18 executor_base.py:116] Maximum concurrency for 32768 tokens per request: 1.49x\n",
      "INFO 03-15 02:18:21 model_runner.py:1434] Capturing cudagraphs for decoding. This may lead to unexpected consequences if the model is not static. To run the model in eager mode, set 'enforce_eager=True' or use '--enforce-eager' in the CLI. If out-of-memory error occurs during cudagraph capture, consider decreasing `gpu_memory_utilization` or switching to eager mode. You can also reduce the `max_num_seqs` as needed to decrease memory usage.\n"
     ]
    },
    {
     "name": "stderr",
     "output_type": "stream",
     "text": [
      "Capturing CUDA graph shapes: 100%|██████████| 35/35 [00:17<00:00,  1.95it/s]"
     ]
    },
    {
     "name": "stdout",
     "output_type": "stream",
     "text": [
      "INFO 03-15 02:18:39 model_runner.py:1562] Graph capturing finished in 18 secs, took 0.21 GiB\n",
      "INFO 03-15 02:18:39 llm_engine.py:436] init engine (profile, create kv cache, warmup model) took 24.60 seconds\n"
     ]
    },
    {
     "name": "stderr",
     "output_type": "stream",
     "text": [
      "\n"
     ]
    }
   ],
   "source": [
    "model = \"/root/autodl-fs/data2/root/.cache/modelscope/hub/Qwen/Qwen2-7B-Instruct\"\n",
    "llm = LLM(model=model, gpu_memory_utilization=0.9)"
   ]
  },
  {
   "cell_type": "markdown",
   "id": "298e8f2e5ae34813",
   "metadata": {},
   "source": [
    "## FP16"
   ]
  },
  {
   "cell_type": "code",
   "execution_count": 5,
   "id": "f29d6bbef83a5ad5",
   "metadata": {},
   "outputs": [
    {
     "name": "stdout",
     "output_type": "stream",
     "text": [
      "bs=1\n"
     ]
    },
    {
     "name": "stderr",
     "output_type": "stream",
     "text": [
      "Processed prompts: 100%|██████████| 1/1 [00:00<00:00,  4.61it/s, est. speed input: 23.22 toks/s, output: 46.44 toks/s]\n"
     ]
    },
    {
     "name": "stdout",
     "output_type": "stream",
     "text": [
      "duration: 0.2218303680419922\n",
      "throughput: 45.079490640826116 tokens/s\n",
      "avg latency: 0.022183036804199217\n",
      "\n",
      "bs=2\n"
     ]
    },
    {
     "name": "stderr",
     "output_type": "stream",
     "text": [
      "Processed prompts: 100%|██████████| 2/2 [00:00<00:00, 10.06it/s, est. speed input: 60.36 toks/s, output: 100.60 toks/s]\n"
     ]
    },
    {
     "name": "stdout",
     "output_type": "stream",
     "text": [
      "duration: 0.20243406295776367\n",
      "throughput: 98.79760208227826 tokens/s\n",
      "avg latency: 0.020243406295776367\n",
      "\n",
      "bs=4\n"
     ]
    },
    {
     "name": "stderr",
     "output_type": "stream",
     "text": [
      "Processed prompts: 100%|██████████| 4/4 [00:00<00:00, 20.29it/s, est. speed input: 111.63 toks/s, output: 202.95 toks/s]\n"
     ]
    },
    {
     "name": "stdout",
     "output_type": "stream",
     "text": [
      "duration: 0.2006375789642334\n",
      "throughput: 199.36444711152834 tokens/s\n",
      "avg latency: 0.02006375789642334\n",
      "\n",
      "bs=8\n"
     ]
    },
    {
     "name": "stderr",
     "output_type": "stream",
     "text": [
      "Processed prompts: 100%|██████████| 8/8 [00:00<00:00, 39.85it/s, est. speed input: 219.43 toks/s, output: 398.95 toks/s]\n"
     ]
    },
    {
     "name": "stdout",
     "output_type": "stream",
     "text": [
      "duration: 0.20479607582092285\n",
      "throughput: 390.6324849210165 tokens/s\n",
      "avg latency: 0.020479607582092284\n",
      "\n",
      "bs=16\n"
     ]
    },
    {
     "name": "stderr",
     "output_type": "stream",
     "text": [
      "Processed prompts: 100%|██████████| 16/16 [00:00<00:00, 76.44it/s, est. speed input: 420.55 toks/s, output: 764.62 toks/s]\n"
     ]
    },
    {
     "name": "stdout",
     "output_type": "stream",
     "text": [
      "duration: 0.21404075622558594\n",
      "throughput: 747.5211862518825 tokens/s\n",
      "avg latency: 0.021404075622558593\n",
      "\n",
      "bs=32\n"
     ]
    },
    {
     "name": "stderr",
     "output_type": "stream",
     "text": [
      "Processed prompts: 100%|██████████| 32/32 [00:00<00:00, 133.77it/s, est. speed input: 736.00 toks/s, output: 1338.15 toks/s]\n"
     ]
    },
    {
     "name": "stdout",
     "output_type": "stream",
     "text": [
      "duration: 0.24671339988708496\n",
      "throughput: 1297.0515592037425 tokens/s\n",
      "avg latency: 0.024671339988708497\n",
      "\n",
      "bs=64\n"
     ]
    },
    {
     "name": "stderr",
     "output_type": "stream",
     "text": [
      "Processed prompts: 100%|██████████| 64/64 [00:00<00:00, 219.41it/s, est. speed input: 1207.06 toks/s, output: 2194.59 toks/s]\n"
     ]
    },
    {
     "name": "stdout",
     "output_type": "stream",
     "text": [
      "duration: 0.303372859954834\n",
      "throughput: 2109.615211114412 tokens/s\n",
      "avg latency: 0.0303372859954834\n",
      "\n",
      "bs=128\n"
     ]
    },
    {
     "name": "stderr",
     "output_type": "stream",
     "text": [
      "Processed prompts: 100%|██████████| 128/128 [00:00<00:00, 310.14it/s, est. speed input: 1706.11 toks/s, output: 3101.95 toks/s]"
     ]
    },
    {
     "name": "stdout",
     "output_type": "stream",
     "text": [
      "duration: 0.4336862564086914\n",
      "throughput: 2951.4423874059103 tokens/s\n",
      "avg latency: 0.04336862564086914\n",
      "\n"
     ]
    },
    {
     "name": "stderr",
     "output_type": "stream",
     "text": [
      "\n"
     ]
    }
   ],
   "source": [
    "# observations\n",
    "durations = []\n",
    "throughputs = []\n",
    "latencies = []\n",
    "\n",
    "batch_sizes = [2**p for p in range(8)]\n",
    "for batch_size in batch_sizes:\n",
    "    print(f\"bs={batch_size}\")\n",
    "\n",
    "    # generate tokens for batch and record duration\n",
    "    t0 = time.time()\n",
    "    batch_prompt = [\n",
    "        prompts[i % len(prompts)] for i in range(batch_size)\n",
    "    ]\n",
    "\n",
    "    outputs = llm.generate(batch_prompt, sampling_params)\n",
    "\n",
    "    duration_s = time.time() - t0\n",
    "\n",
    "    # calculate throughput\n",
    "    ntokens = batch_size * max_tokens\n",
    "    throughput = ntokens / duration_s\n",
    "    avg_latency = duration_s / max_tokens\n",
    "    print(f\"duration: {duration_s}\")\n",
    "    print(f\"throughput: {throughput} tokens/s\")\n",
    "    print(f\"avg latency: {avg_latency}\")\n",
    "    print()\n",
    "\n",
    "    durations.append(duration_s)\n",
    "    throughputs.append(throughput)\n",
    "    latencies.append(avg_latency)\n"
   ]
  },
  {
   "cell_type": "code",
   "execution_count": 6,
   "id": "16118172b978b6a8",
   "metadata": {},
   "outputs": [],
   "source": [
    "# save observations and restart kernel\n",
    "# save as json\n",
    "import json\n",
    "\n",
    "data = {\n",
    "    \"durations\": durations,\n",
    "    \"throughputs\": throughputs,\n",
    "    \"latencies\": latencies,\n",
    "    \"batch_sizes\": batch_sizes,\n",
    "    \"prompts\": prompts,\n",
    "    \"max_tokens\": max_tokens\n",
    "\n",
    "}\n",
    "\n",
    "with open(\"basic_fp16_inference_observation.json\", \"w\") as f:\n",
    "    json.dump(data, f)"
   ]
  },
  {
   "cell_type": "code",
   "execution_count": 1,
   "id": "36103b0e9ae5da0a",
   "metadata": {},
   "outputs": [],
   "source": [
    "import json\n",
    "\n",
    "# Read the data from the JSON file\n",
    "with open(\"basic_fp16_inference_observation.json\", \"r\") as f:\n",
    "    data = json.load(f)\n",
    "\n",
    "# Restore the lists\n",
    "durations = data[\"durations\"]\n",
    "throughputs = data[\"throughputs\"]\n",
    "latencies = data[\"latencies\"]\n",
    "batch_sizes = data[\"batch_sizes\"]\n",
    "prompts = data[\"prompts\"]\n",
    "max_tokens = data[\"max_tokens\"]"
   ]
  },
  {
   "cell_type": "markdown",
   "id": "41485e55d5d635a4",
   "metadata": {},
   "source": [
    "## AWQ"
   ]
  },
  {
   "cell_type": "code",
   "execution_count": 2,
   "id": "4bf17104-158b-474f-a749-ae910f8ca0e1",
   "metadata": {},
   "outputs": [],
   "source": [
    "from vllm import LLM, SamplingParams\n",
    "import matplotlib.pyplot as plt\n",
    "import time"
   ]
  },
  {
   "cell_type": "code",
   "execution_count": 3,
   "id": "6340397d-d638-4fb6-aa08-b5703b8a774b",
   "metadata": {},
   "outputs": [],
   "source": [
    "sampling_params = SamplingParams(temperature=0.8, top_p=0.95, max_tokens=max_tokens)"
   ]
  },
  {
   "cell_type": "code",
   "execution_count": 4,
   "id": "1096e08ee1767c61",
   "metadata": {
    "editable": true,
    "slideshow": {
     "slide_type": ""
    },
    "tags": []
   },
   "outputs": [
    {
     "name": "stdout",
     "output_type": "stream",
     "text": [
      "INFO 03-15 02:19:43 __init__.py:207] Automatically detected platform cuda.\n",
      "INFO 03-15 02:19:50 config.py:549] This model supports multiple tasks: {'classify', 'score', 'generate', 'embed', 'reward'}. Defaulting to 'generate'.\n",
      "INFO 03-15 02:19:51 awq_marlin.py:114] The model is convertible to awq_marlin during runtime. Using awq_marlin kernel.\n",
      "INFO 03-15 02:19:51 llm_engine.py:234] Initializing a V0 LLM engine (v0.7.3) with config: model='/root/autodl-fs/data2/root/.cache/modelscope/hub/Qwen/Qwen2-7B-Instruct-AWQ', speculative_config=None, tokenizer='/root/autodl-fs/data2/root/.cache/modelscope/hub/Qwen/Qwen2-7B-Instruct-AWQ', skip_tokenizer_init=False, tokenizer_mode=auto, revision=None, override_neuron_config=None, tokenizer_revision=None, trust_remote_code=False, dtype=torch.float16, max_seq_len=32768, download_dir=None, load_format=LoadFormat.AUTO, tensor_parallel_size=1, pipeline_parallel_size=1, disable_custom_all_reduce=False, quantization=awq_marlin, enforce_eager=False, kv_cache_dtype=auto,  device_config=cuda, decoding_config=DecodingConfig(guided_decoding_backend='xgrammar'), observability_config=ObservabilityConfig(otlp_traces_endpoint=None, collect_model_forward_time=False, collect_model_execute_time=False), seed=0, served_model_name=/root/autodl-fs/data2/root/.cache/modelscope/hub/Qwen/Qwen2-7B-Instruct-AWQ, num_scheduler_steps=1, multi_step_stream_outputs=True, enable_prefix_caching=False, chunked_prefill_enabled=False, use_async_output_proc=True, disable_mm_preprocessor_cache=False, mm_processor_kwargs=None, pooler_config=None, compilation_config={\"splitting_ops\":[],\"compile_sizes\":[],\"cudagraph_capture_sizes\":[256,248,240,232,224,216,208,200,192,184,176,168,160,152,144,136,128,120,112,104,96,88,80,72,64,56,48,40,32,24,16,8,4,2,1],\"max_capture_size\":256}, use_cached_outputs=False, \n",
      "INFO 03-15 02:19:52 cuda.py:229] Using Flash Attention backend.\n",
      "INFO 03-15 02:19:52 model_runner.py:1110] Starting to load model /root/autodl-fs/data2/root/.cache/modelscope/hub/Qwen/Qwen2-7B-Instruct-AWQ...\n"
     ]
    },
    {
     "data": {
      "application/vnd.jupyter.widget-view+json": {
       "model_id": "336d0b42c6be4d9390e5bff548b8dcc6",
       "version_major": 2,
       "version_minor": 0
      },
      "text/plain": [
       "Loading safetensors checkpoint shards:   0% Completed | 0/2 [00:00<?, ?it/s]\n"
      ]
     },
     "metadata": {},
     "output_type": "display_data"
    },
    {
     "name": "stdout",
     "output_type": "stream",
     "text": [
      "INFO 03-15 02:20:14 model_runner.py:1115] Loading model weights took 5.2048 GB\n",
      "INFO 03-15 02:20:18 worker.py:267] Memory profiling takes 3.70 seconds\n",
      "INFO 03-15 02:20:18 worker.py:267] the current vLLM instance can use total_gpu_memory (23.64GiB) x gpu_memory_utilization (0.90) = 21.28GiB\n",
      "INFO 03-15 02:20:18 worker.py:267] model weights take 5.20GiB; non_torch_memory takes 0.08GiB; PyTorch activation peak memory takes 5.51GiB; the rest of the memory reserved for KV Cache is 10.48GiB.\n",
      "INFO 03-15 02:20:18 executor_base.py:111] # cuda blocks: 12268, # CPU blocks: 4681\n",
      "INFO 03-15 02:20:18 executor_base.py:116] Maximum concurrency for 32768 tokens per request: 5.99x\n",
      "INFO 03-15 02:20:21 model_runner.py:1434] Capturing cudagraphs for decoding. This may lead to unexpected consequences if the model is not static. To run the model in eager mode, set 'enforce_eager=True' or use '--enforce-eager' in the CLI. If out-of-memory error occurs during cudagraph capture, consider decreasing `gpu_memory_utilization` or switching to eager mode. You can also reduce the `max_num_seqs` as needed to decrease memory usage.\n"
     ]
    },
    {
     "name": "stderr",
     "output_type": "stream",
     "text": [
      "Capturing CUDA graph shapes: 100%|██████████| 35/35 [00:18<00:00,  1.91it/s]"
     ]
    },
    {
     "name": "stdout",
     "output_type": "stream",
     "text": [
      "INFO 03-15 02:20:39 model_runner.py:1562] Graph capturing finished in 18 secs, took 0.27 GiB\n",
      "INFO 03-15 02:20:39 llm_engine.py:436] init engine (profile, create kv cache, warmup model) took 25.39 seconds\n"
     ]
    },
    {
     "name": "stderr",
     "output_type": "stream",
     "text": [
      "\n"
     ]
    }
   ],
   "source": [
    "model = \"/root/autodl-fs/data2/root/.cache/modelscope/hub/Qwen/Qwen2-7B-Instruct-AWQ\"\n",
    "# Create an LLM.\n",
    "llm_awq = LLM(model=model, quantization=\"awq_marlin\", gpu_memory_utilization=0.9)"
   ]
  },
  {
   "cell_type": "code",
   "execution_count": 5,
   "id": "27cf86479e767eee",
   "metadata": {},
   "outputs": [
    {
     "name": "stdout",
     "output_type": "stream",
     "text": [
      "bs=1\n"
     ]
    },
    {
     "name": "stderr",
     "output_type": "stream",
     "text": [
      "Processed prompts: 100%|██████████| 1/1 [00:00<00:00,  8.14it/s, est. speed input: 40.99 toks/s, output: 81.96 toks/s]\n"
     ]
    },
    {
     "name": "stdout",
     "output_type": "stream",
     "text": [
      "duration: 0.12714529037475586\n",
      "throughput: 78.65018020349306 tokens/s\n",
      "avg latency: 0.012714529037475586\n",
      "\n",
      "bs=2\n"
     ]
    },
    {
     "name": "stderr",
     "output_type": "stream",
     "text": [
      "Processed prompts: 100%|██████████| 2/2 [00:00<00:00, 19.78it/s, est. speed input: 118.80 toks/s, output: 197.97 toks/s]\n"
     ]
    },
    {
     "name": "stdout",
     "output_type": "stream",
     "text": [
      "duration: 0.10377669334411621\n",
      "throughput: 192.7214999391184 tokens/s\n",
      "avg latency: 0.01037766933441162\n",
      "\n",
      "bs=4\n"
     ]
    },
    {
     "name": "stderr",
     "output_type": "stream",
     "text": [
      "Processed prompts: 100%|██████████| 4/4 [00:00<00:00, 45.87it/s, est. speed input: 252.70 toks/s, output: 459.41 toks/s]\n"
     ]
    },
    {
     "name": "stdout",
     "output_type": "stream",
     "text": [
      "duration: 0.09054708480834961\n",
      "throughput: 441.75911443933626 tokens/s\n",
      "avg latency: 0.00905470848083496\n",
      "\n",
      "bs=8\n"
     ]
    },
    {
     "name": "stderr",
     "output_type": "stream",
     "text": [
      "Processed prompts: 100%|██████████| 8/8 [00:00<00:00, 87.42it/s, est. speed input: 481.50 toks/s, output: 875.39 toks/s]\n"
     ]
    },
    {
     "name": "stdout",
     "output_type": "stream",
     "text": [
      "duration: 0.09540367126464844\n",
      "throughput: 838.542153981487 tokens/s\n",
      "avg latency: 0.009540367126464843\n",
      "\n",
      "bs=16\n"
     ]
    },
    {
     "name": "stderr",
     "output_type": "stream",
     "text": [
      "Processed prompts: 100%|██████████| 16/16 [00:00<00:00, 160.87it/s, est. speed input: 885.65 toks/s, output: 1610.17 toks/s]\n"
     ]
    },
    {
     "name": "stdout",
     "output_type": "stream",
     "text": [
      "duration: 0.1044931411743164\n",
      "throughput: 1531.200978378921 tokens/s\n",
      "avg latency: 0.01044931411743164\n",
      "\n",
      "bs=32\n"
     ]
    },
    {
     "name": "stderr",
     "output_type": "stream",
     "text": [
      "Processed prompts: 100%|██████████| 32/32 [00:00<00:00, 240.28it/s, est. speed input: 1322.33 toks/s, output: 2404.10 toks/s]\n"
     ]
    },
    {
     "name": "stdout",
     "output_type": "stream",
     "text": [
      "duration: 0.14169931411743164\n",
      "throughput: 2258.303097605707 tokens/s\n",
      "avg latency: 0.014169931411743164\n",
      "\n",
      "bs=64\n"
     ]
    },
    {
     "name": "stderr",
     "output_type": "stream",
     "text": [
      "Processed prompts: 100%|██████████| 64/64 [00:00<00:00, 329.13it/s, est. speed input: 1811.07 toks/s, output: 3292.74 toks/s]\n"
     ]
    },
    {
     "name": "stdout",
     "output_type": "stream",
     "text": [
      "duration: 0.20654606819152832\n",
      "throughput: 3098.5823434147082 tokens/s\n",
      "avg latency: 0.02065460681915283\n",
      "\n",
      "bs=128\n"
     ]
    },
    {
     "name": "stderr",
     "output_type": "stream",
     "text": [
      "Processed prompts: 100%|██████████| 128/128 [00:00<00:00, 358.00it/s, est. speed input: 1969.46 toks/s, output: 3580.76 toks/s]"
     ]
    },
    {
     "name": "stdout",
     "output_type": "stream",
     "text": [
      "duration: 0.3790445327758789\n",
      "throughput: 3376.9119175156056 tokens/s\n",
      "avg latency: 0.03790445327758789\n",
      "\n"
     ]
    },
    {
     "name": "stderr",
     "output_type": "stream",
     "text": [
      "\n"
     ]
    }
   ],
   "source": [
    "# observations\n",
    "durations_with_awq = []\n",
    "throughputs_with_awq = []\n",
    "latencies_with_awq = []\n",
    "\n",
    "for batch_size in batch_sizes:\n",
    "    print(f\"bs={batch_size}\")\n",
    "\n",
    "    # generate tokens for batch and record duration\n",
    "    t0 = time.time()\n",
    "    batch_prompt = [\n",
    "        prompts[i % len(prompts)] for i in range(batch_size)\n",
    "    ]\n",
    "\n",
    "    outputs = llm_awq.generate(batch_prompt, sampling_params)\n",
    "\n",
    "    duration_s = time.time() - t0\n",
    "\n",
    "    # calculate throughput\n",
    "    ntokens = batch_size * max_tokens\n",
    "    throughput = ntokens / duration_s\n",
    "    avg_latency = duration_s / max_tokens\n",
    "    print(f\"duration: {duration_s}\")\n",
    "    print(f\"throughput: {throughput} tokens/s\")\n",
    "    print(f\"avg latency: {avg_latency}\")\n",
    "    print()\n",
    "\n",
    "    durations_with_awq.append(duration_s)\n",
    "    throughputs_with_awq.append(throughput)\n",
    "    latencies_with_awq.append(avg_latency)"
   ]
  },
  {
   "cell_type": "code",
   "execution_count": 6,
   "id": "c654dbd1aef47b86",
   "metadata": {},
   "outputs": [],
   "source": [
    "def render_plot(x, y1, y2, y3, y4, x_label, y1_label, y2_label):\n",
    "    fig, ax1 = plt.subplots()\n",
    "\n",
    "    # plot the first line (FP32 throughput)\n",
    "    color = 'tab:red'\n",
    "    ax1.set_xlabel(x_label)\n",
    "    ax1.set_ylabel(y1_label, color=color)\n",
    "    ax1.plot(x, y1, color=color, label='FP16 Throughput', linestyle='-')\n",
    "    ax1.tick_params(axis='y', labelcolor=color)\n",
    "\n",
    "    # plot the third line (AWQ throughput)\n",
    "    ax1.plot(x, y3, color=color, label='AWQ Throughput', linestyle='--')\n",
    "\n",
    "    # set the x-axis to be log scaled\n",
    "    ax1.set_xscale('log', base=2)\n",
    "\n",
    "    # Instantiate a second axes shares the same x-axis\n",
    "    ax2 = ax1.twinx()\n",
    "    color = 'tab:blue'\n",
    "    ax2.set_ylabel(y2_label, color=color)\n",
    "    ax2.plot(x, y2, color=color, label='FP16 Latency', linestyle='-')\n",
    "    ax2.tick_params(axis='y', labelcolor=color)\n",
    "\n",
    "    # plot the fourth line (AWQ latency)\n",
    "    ax2.plot(x, y4, color=color, label='AWQ Latency', linestyle='--')\n",
    "\n",
    "    # Add legends\n",
    "    fig.legend(loc='upper left', bbox_to_anchor=(0.1, 0.9))\n",
    "\n",
    "    plt.show()"
   ]
  },
  {
   "cell_type": "code",
   "execution_count": 7,
   "id": "14aefcd2e476f2c1",
   "metadata": {
    "editable": true,
    "slideshow": {
     "slide_type": ""
    },
    "tags": []
   },
   "outputs": [
    {
     "data": {
      "image/png": "[encoded data removed]",
      "text/plain": [
       "<Figure size 640x480 with 2 Axes>"
      ]
     },
     "metadata": {},
     "output_type": "display_data"
    }
   ],
   "source": [
    "render_plot(\n",
    "    batch_sizes,\n",
    "    throughputs,\n",
    "    latencies,\n",
    "    throughputs_with_awq,\n",
    "    latencies_with_awq,\n",
    "    \"batch size\",\n",
    "    \"throughput (tokens/s)\",\n",
    "    \"avg latency (s)\"\n",
    ")"
   ]
  },
  {
   "cell_type": "code",
   "execution_count": null,
   "id": "9f7ef695-4af5-4d26-b610-1666a97096bf",
   "metadata": {},
   "outputs": [],
   "source": [
    "# save observations and restart kernel\n",
    "# save as json\n",
    "import json\n",
    "\n",
    "data = {\n",
    "    \"durations\": durations_with_awq,\n",
    "    \"throughputs\": throughputs_with_awq,\n",
    "    \"latencies\": latencies_with_awq,\n",
    "    \"batch_sizes\": batch_sizes,\n",
    "    \"prompts\": prompts,\n",
    "    \"max_tokens\": max_tokens\n",
    "\n",
    "}\n",
    "\n",
    "with open(\"int4_awq_inference_observation.json\", \"w\") as f:\n",
    "    json.dump(data, f)"
   ]
  }
 ],
 "metadata": {
  "kernelspec": {
   "display_name": "Python 3 (ipykernel)",
   "language": "python",
   "name": "python3"
  },
  "language_info": {
   "codemirror_mode": {
    "name": "ipython",
    "version": 3
   },
   "file_extension": ".py",
   "mimetype": "text/x-python",
   "name": "python",
   "nbconvert_exporter": "python",
   "pygments_lexer": "ipython3",
   "version": "3.12.3"
  }
 },
 "nbformat": 4,
 "nbformat_minor": 5
}
