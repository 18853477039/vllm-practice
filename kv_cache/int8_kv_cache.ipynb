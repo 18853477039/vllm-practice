{
 "cells": [
  {
   "cell_type": "code",
   "execution_count": 1,
   "id": "4c626640f9069877",
   "metadata": {
    "ExecuteTime": {
     "end_time": "2025-03-14T07:05:21.998637Z",
     "start_time": "2025-03-14T07:05:18.728868Z"
    }
   },
   "outputs": [],
   "source": [
    "from vllm import LLM, SamplingParams\n",
    "import time"
   ]
  },
  {
   "cell_type": "code",
   "execution_count": 2,
   "id": "817e130461934442",
   "metadata": {
    "ExecuteTime": {
     "end_time": "2025-03-14T07:05:22.081996Z",
     "start_time": "2025-03-14T07:05:22.080285Z"
    }
   },
   "outputs": [],
   "source": [
    "prompts = [\n",
    "    \"Hello, my name is\",\n",
    "    \"The president of the United States is\",\n",
    "    \"The capital of France is\",\n",
    "    \"The future of AI is\",\n",
    "]\n",
    "max_tokens = 10\n",
    "sampling_params = SamplingParams(temperature=0.8, top_p=0.95, max_tokens=max_tokens)"
   ]
  },
  {
   "cell_type": "markdown",
   "id": "42304d0fdcb8b250",
   "metadata": {},
   "source": [
    "## bp16"
   ]
  },
  {
   "cell_type": "code",
   "execution_count": 3,
   "id": "187b121797ccbba0",
   "metadata": {
    "ExecuteTime": {
     "end_time": "2025-03-14T07:05:22.510530Z",
     "start_time": "2025-03-14T07:05:22.092116Z"
    }
   },
   "outputs": [
    {
     "name": "stdout",
     "output_type": "stream",
     "text": [
      "INFO 03-15 02:32:09 __init__.py:207] Automatically detected platform cuda.\n",
      "INFO 03-15 02:32:17 config.py:549] This model supports multiple tasks: {'classify', 'embed', 'score', 'reward', 'generate'}. Defaulting to 'generate'.\n",
      "INFO 03-15 02:32:17 llm_engine.py:234] Initializing a V0 LLM engine (v0.7.3) with config: model='/root/autodl-fs/data2/root/.cache/modelscope/hub/Qwen/Qwen2-7B-Instruct', speculative_config=None, tokenizer='/root/autodl-fs/data2/root/.cache/modelscope/hub/Qwen/Qwen2-7B-Instruct', skip_tokenizer_init=False, tokenizer_mode=auto, revision=None, override_neuron_config=None, tokenizer_revision=None, trust_remote_code=False, dtype=torch.bfloat16, max_seq_len=32768, download_dir=None, load_format=LoadFormat.AUTO, tensor_parallel_size=1, pipeline_parallel_size=1, disable_custom_all_reduce=False, quantization=None, enforce_eager=False, kv_cache_dtype=auto,  device_config=cuda, decoding_config=DecodingConfig(guided_decoding_backend='xgrammar'), observability_config=ObservabilityConfig(otlp_traces_endpoint=None, collect_model_forward_time=False, collect_model_execute_time=False), seed=0, served_model_name=/root/autodl-fs/data2/root/.cache/modelscope/hub/Qwen/Qwen2-7B-Instruct, num_scheduler_steps=1, multi_step_stream_outputs=True, enable_prefix_caching=False, chunked_prefill_enabled=False, use_async_output_proc=True, disable_mm_preprocessor_cache=False, mm_processor_kwargs=None, pooler_config=None, compilation_config={\"splitting_ops\":[],\"compile_sizes\":[],\"cudagraph_capture_sizes\":[256,248,240,232,224,216,208,200,192,184,176,168,160,152,144,136,128,120,112,104,96,88,80,72,64,56,48,40,32,24,16,8,4,2,1],\"max_capture_size\":256}, use_cached_outputs=False, \n",
      "INFO 03-15 02:32:18 cuda.py:229] Using Flash Attention backend.\n",
      "INFO 03-15 02:32:19 model_runner.py:1110] Starting to load model /root/autodl-fs/data2/root/.cache/modelscope/hub/Qwen/Qwen2-7B-Instruct...\n"
     ]
    },
    {
     "data": {
      "application/vnd.jupyter.widget-view+json": {
       "model_id": "08535b33f9344d88ad3cf91f00a491bf",
       "version_major": 2,
       "version_minor": 0
      },
      "text/plain": [
       "Loading safetensors checkpoint shards:   0% Completed | 0/4 [00:00<?, ?it/s]\n"
      ]
     },
     "metadata": {},
     "output_type": "display_data"
    },
    {
     "name": "stdout",
     "output_type": "stream",
     "text": [
      "INFO 03-15 02:33:15 model_runner.py:1115] Loading model weights took 14.2487 GB\n",
      "INFO 03-15 02:33:19 worker.py:267] Memory profiling takes 3.30 seconds\n",
      "INFO 03-15 02:33:19 worker.py:267] the current vLLM instance can use total_gpu_memory (23.64GiB) x gpu_memory_utilization (0.90) = 21.28GiB\n",
      "INFO 03-15 02:33:19 worker.py:267] model weights take 14.25GiB; non_torch_memory takes 0.08GiB; PyTorch activation peak memory takes 4.35GiB; the rest of the memory reserved for KV Cache is 2.60GiB.\n",
      "INFO 03-15 02:33:19 executor_base.py:111] # cuda blocks: 3044, # CPU blocks: 4681\n",
      "INFO 03-15 02:33:19 executor_base.py:116] Maximum concurrency for 32768 tokens per request: 1.49x\n",
      "INFO 03-15 02:33:22 model_runner.py:1434] Capturing cudagraphs for decoding. This may lead to unexpected consequences if the model is not static. To run the model in eager mode, set 'enforce_eager=True' or use '--enforce-eager' in the CLI. If out-of-memory error occurs during cudagraph capture, consider decreasing `gpu_memory_utilization` or switching to eager mode. You can also reduce the `max_num_seqs` as needed to decrease memory usage.\n"
     ]
    },
    {
     "name": "stderr",
     "output_type": "stream",
     "text": [
      "Capturing CUDA graph shapes: 100%|██████████| 35/35 [00:17<00:00,  1.96it/s]"
     ]
    },
    {
     "name": "stdout",
     "output_type": "stream",
     "text": [
      "INFO 03-15 02:33:40 model_runner.py:1562] Graph capturing finished in 18 secs, took 0.21 GiB\n",
      "INFO 03-15 02:33:40 llm_engine.py:436] init engine (profile, create kv cache, warmup model) took 24.51 seconds\n"
     ]
    },
    {
     "name": "stderr",
     "output_type": "stream",
     "text": [
      "\n"
     ]
    }
   ],
   "source": [
    "model = \"/root/autodl-fs/data2/root/.cache/modelscope/hub/Qwen/Qwen2-7B-Instruct\"\n",
    "\n",
    "llm = LLM(model=model, gpu_memory_utilization=0.9)"
   ]
  },
  {
   "cell_type": "code",
   "execution_count": 4,
   "id": "95f9e034856755c1",
   "metadata": {},
   "outputs": [
    {
     "name": "stdout",
     "output_type": "stream",
     "text": [
      "bs=1\n"
     ]
    },
    {
     "name": "stderr",
     "output_type": "stream",
     "text": [
      "Processed prompts: 100%|██████████| 1/1 [00:00<00:00,  4.92it/s, est. speed input: 24.71 toks/s, output: 49.41 toks/s]\n"
     ]
    },
    {
     "name": "stdout",
     "output_type": "stream",
     "text": [
      "duration: 0.20726847648620605\n",
      "throughput: 48.2466034851446 tokens/s\n",
      "avg latency: 0.020726847648620605\n",
      "\n",
      "bs=2\n"
     ]
    },
    {
     "name": "stderr",
     "output_type": "stream",
     "text": [
      "Processed prompts: 100%|██████████| 2/2 [00:00<00:00, 10.09it/s, est. speed input: 60.58 toks/s, output: 100.95 toks/s]\n"
     ]
    },
    {
     "name": "stdout",
     "output_type": "stream",
     "text": [
      "duration: 0.20068740844726562\n",
      "throughput: 99.657473055941 tokens/s\n",
      "avg latency: 0.02006874084472656\n",
      "\n",
      "bs=4\n"
     ]
    },
    {
     "name": "stderr",
     "output_type": "stream",
     "text": [
      "Processed prompts: 100%|██████████| 4/4 [00:00<00:00, 20.31it/s, est. speed input: 111.73 toks/s, output: 203.14 toks/s]\n"
     ]
    },
    {
     "name": "stdout",
     "output_type": "stream",
     "text": [
      "duration: 0.19990801811218262\n",
      "throughput: 200.09202421062048 tokens/s\n",
      "avg latency: 0.01999080181121826\n",
      "\n",
      "bs=8\n"
     ]
    },
    {
     "name": "stderr",
     "output_type": "stream",
     "text": [
      "Processed prompts: 100%|██████████| 8/8 [00:00<00:00, 39.11it/s, est. speed input: 215.20 toks/s, output: 391.26 toks/s]\n"
     ]
    },
    {
     "name": "stdout",
     "output_type": "stream",
     "text": [
      "duration: 0.20887327194213867\n",
      "throughput: 383.0073577923427 tokens/s\n",
      "avg latency: 0.020887327194213868\n",
      "\n",
      "bs=16\n"
     ]
    },
    {
     "name": "stderr",
     "output_type": "stream",
     "text": [
      "Processed prompts: 100%|██████████| 16/16 [00:00<00:00, 75.81it/s, est. speed input: 417.10 toks/s, output: 758.35 toks/s]\n"
     ]
    },
    {
     "name": "stdout",
     "output_type": "stream",
     "text": [
      "duration: 0.21564054489135742\n",
      "throughput: 741.9754948245476 tokens/s\n",
      "avg latency: 0.02156405448913574\n",
      "\n",
      "bs=32\n"
     ]
    },
    {
     "name": "stderr",
     "output_type": "stream",
     "text": [
      "Processed prompts: 100%|██████████| 32/32 [00:00<00:00, 133.28it/s, est. speed input: 733.26 toks/s, output: 1333.16 toks/s]\n"
     ]
    },
    {
     "name": "stdout",
     "output_type": "stream",
     "text": [
      "duration: 0.24711990356445312\n",
      "throughput: 1294.9179543384635 tokens/s\n",
      "avg latency: 0.024711990356445314\n",
      "\n",
      "bs=64\n"
     ]
    },
    {
     "name": "stderr",
     "output_type": "stream",
     "text": [
      "Processed prompts: 100%|██████████| 64/64 [00:00<00:00, 219.52it/s, est. speed input: 1207.70 toks/s, output: 2195.76 toks/s]\n"
     ]
    },
    {
     "name": "stdout",
     "output_type": "stream",
     "text": [
      "duration: 0.3028841018676758\n",
      "throughput: 2113.0194554734458 tokens/s\n",
      "avg latency: 0.03028841018676758\n",
      "\n",
      "bs=128\n"
     ]
    },
    {
     "name": "stderr",
     "output_type": "stream",
     "text": [
      "Processed prompts: 100%|██████████| 128/128 [00:00<00:00, 306.66it/s, est. speed input: 1686.94 toks/s, output: 3067.10 toks/s]"
     ]
    },
    {
     "name": "stdout",
     "output_type": "stream",
     "text": [
      "duration: 0.4385342597961426\n",
      "throughput: 2918.8141437228232 tokens/s\n",
      "avg latency: 0.04385342597961426\n",
      "\n"
     ]
    },
    {
     "name": "stderr",
     "output_type": "stream",
     "text": [
      "\n"
     ]
    }
   ],
   "source": [
    "# observations\n",
    "durations = []\n",
    "throughputs = []\n",
    "latencies = []\n",
    "\n",
    "batch_sizes = [2 ** p for p in range(8)]\n",
    "for batch_size in batch_sizes:\n",
    "    print(f\"bs={batch_size}\")\n",
    "\n",
    "    # generate tokens for batch and record duration\n",
    "    t0 = time.time()\n",
    "    batch_prompt = [\n",
    "        prompts[i % len(prompts)] for i in range(batch_size)\n",
    "    ]\n",
    "\n",
    "    outputs = llm.generate(batch_prompt, sampling_params)\n",
    "\n",
    "    duration_s = time.time() - t0\n",
    "\n",
    "    # calculate throughput\n",
    "    ntokens = batch_size * max_tokens\n",
    "    throughput = ntokens / duration_s\n",
    "    avg_latency = duration_s / max_tokens\n",
    "    print(f\"duration: {duration_s}\")\n",
    "    print(f\"throughput: {throughput} tokens/s\")\n",
    "    print(f\"avg latency: {avg_latency}\")\n",
    "    print()\n",
    "\n",
    "    durations.append(duration_s)\n",
    "    throughputs.append(throughput)\n",
    "    latencies.append(avg_latency)\n"
   ]
  },
  {
   "cell_type": "code",
   "execution_count": 5,
   "id": "5feb8a0a4880f007",
   "metadata": {},
   "outputs": [],
   "source": [
    "# save observations and restart kernel\n",
    "# save as json\n",
    "import json\n",
    "\n",
    "data = {\n",
    "    \"durations\": durations,\n",
    "    \"throughputs\": throughputs,\n",
    "    \"latencies\": latencies,\n",
    "    \"batch_sizes\": batch_sizes,\n",
    "    \"prompts\": prompts,\n",
    "    \"max_tokens\": max_tokens\n",
    "\n",
    "}\n",
    "\n",
    "with open(\"basic_fp16_inference_observation.json\", \"w\") as f:\n",
    "    json.dump(data, f)\n",
    "\n"
   ]
  },
  {
   "cell_type": "code",
   "execution_count": 1,
   "id": "c3264323c833fe42",
   "metadata": {},
   "outputs": [],
   "source": [
    "import json\n",
    "\n",
    "# Read the data from the JSON file\n",
    "with open(\"basic_fp16_inference_observation.json\", \"r\") as f:\n",
    "    data = json.load(f)\n",
    "\n",
    "# Restore the lists\n",
    "durations = data[\"durations\"]\n",
    "throughputs = data[\"throughputs\"]\n",
    "latencies = data[\"latencies\"]\n",
    "batch_sizes = data[\"batch_sizes\"]\n",
    "prompts = data[\"prompts\"]\n",
    "max_tokens = data[\"max_tokens\"]"
   ]
  },
  {
   "cell_type": "markdown",
   "id": "c382fbf953e974bd",
   "metadata": {},
   "source": [
    "## int8 kv cache"
   ]
  },
  {
   "cell_type": "code",
   "execution_count": 2,
   "id": "79e2a5ba7f269d8",
   "metadata": {},
   "outputs": [],
   "source": [
    "from vllm import LLM, SamplingParams\n",
    "import matplotlib.pyplot as plt\n",
    "import time"
   ]
  },
  {
   "cell_type": "code",
   "execution_count": 3,
   "id": "218db9b8d0638b4c",
   "metadata": {},
   "outputs": [],
   "source": [
    "sampling_params = SamplingParams(temperature=0.8, top_p=0.95, max_tokens=max_tokens)"
   ]
  },
  {
   "cell_type": "code",
   "execution_count": 4,
   "id": "a919507be45bbf1",
   "metadata": {},
   "outputs": [
    {
     "name": "stdout",
     "output_type": "stream",
     "text": [
      "INFO 03-15 02:43:22 __init__.py:207] Automatically detected platform cuda.\n",
      "INFO 03-15 02:43:30 config.py:549] This model supports multiple tasks: {'reward', 'classify', 'generate', 'score', 'embed'}. Defaulting to 'generate'.\n",
      "INFO 03-15 02:43:31 gptq_marlin.py:143] The model is convertible to gptq_marlin during runtime. Using gptq_marlin kernel.\n",
      "INFO 03-15 02:43:31 llm_engine.py:234] Initializing a V0 LLM engine (v0.7.3) with config: model='/root/autodl-fs/data2/root/.cache/modelscope/hub/Qwen/Qwen2-7B-Instruct-GPTQ-Int8', speculative_config=None, tokenizer='/root/autodl-fs/data2/root/.cache/modelscope/hub/Qwen/Qwen2-7B-Instruct-GPTQ-Int8', skip_tokenizer_init=False, tokenizer_mode=auto, revision=None, override_neuron_config=None, tokenizer_revision=None, trust_remote_code=False, dtype=torch.float16, max_seq_len=32768, download_dir=None, load_format=LoadFormat.AUTO, tensor_parallel_size=1, pipeline_parallel_size=1, disable_custom_all_reduce=False, quantization=gptq_marlin, enforce_eager=False, kv_cache_dtype=auto,  device_config=cuda, decoding_config=DecodingConfig(guided_decoding_backend='xgrammar'), observability_config=ObservabilityConfig(otlp_traces_endpoint=None, collect_model_forward_time=False, collect_model_execute_time=False), seed=0, served_model_name=/root/autodl-fs/data2/root/.cache/modelscope/hub/Qwen/Qwen2-7B-Instruct-GPTQ-Int8, num_scheduler_steps=1, multi_step_stream_outputs=True, enable_prefix_caching=False, chunked_prefill_enabled=False, use_async_output_proc=True, disable_mm_preprocessor_cache=False, mm_processor_kwargs=None, pooler_config=None, compilation_config={\"splitting_ops\":[],\"compile_sizes\":[],\"cudagraph_capture_sizes\":[256,248,240,232,224,216,208,200,192,184,176,168,160,152,144,136,128,120,112,104,96,88,80,72,64,56,48,40,32,24,16,8,4,2,1],\"max_capture_size\":256}, use_cached_outputs=False, \n",
      "INFO 03-15 02:43:31 cuda.py:229] Using Flash Attention backend.\n",
      "INFO 03-15 02:43:32 model_runner.py:1110] Starting to load model /root/autodl-fs/data2/root/.cache/modelscope/hub/Qwen/Qwen2-7B-Instruct-GPTQ-Int8...\n",
      "INFO 03-15 02:43:32 gptq_marlin.py:235] Using MarlinLinearKernel for GPTQMarlinLinearMethod\n"
     ]
    },
    {
     "data": {
      "application/vnd.jupyter.widget-view+json": {
       "model_id": "989ba6f6b47d401cb308253b27358acb",
       "version_major": 2,
       "version_minor": 0
      },
      "text/plain": [
       "Loading safetensors checkpoint shards:   0% Completed | 0/3 [00:00<?, ?it/s]\n"
      ]
     },
     "metadata": {},
     "output_type": "display_data"
    },
    {
     "name": "stdout",
     "output_type": "stream",
     "text": [
      "INFO 03-15 02:43:47 model_runner.py:1115] Loading model weights took 8.2412 GB\n",
      "INFO 03-15 02:43:52 worker.py:267] Memory profiling takes 3.84 seconds\n",
      "INFO 03-15 02:43:52 worker.py:267] the current vLLM instance can use total_gpu_memory (23.64GiB) x gpu_memory_utilization (0.90) = 21.28GiB\n",
      "INFO 03-15 02:43:52 worker.py:267] model weights take 8.24GiB; non_torch_memory takes 0.08GiB; PyTorch activation peak memory takes 5.51GiB; the rest of the memory reserved for KV Cache is 7.45GiB.\n",
      "INFO 03-15 02:43:52 executor_base.py:111] # cuda blocks: 8714, # CPU blocks: 4681\n",
      "INFO 03-15 02:43:52 executor_base.py:116] Maximum concurrency for 32768 tokens per request: 4.25x\n",
      "INFO 03-15 02:43:55 model_runner.py:1434] Capturing cudagraphs for decoding. This may lead to unexpected consequences if the model is not static. To run the model in eager mode, set 'enforce_eager=True' or use '--enforce-eager' in the CLI. If out-of-memory error occurs during cudagraph capture, consider decreasing `gpu_memory_utilization` or switching to eager mode. You can also reduce the `max_num_seqs` as needed to decrease memory usage.\n"
     ]
    },
    {
     "name": "stderr",
     "output_type": "stream",
     "text": [
      "Capturing CUDA graph shapes: 100%|██████████| 35/35 [00:18<00:00,  1.89it/s]"
     ]
    },
    {
     "name": "stdout",
     "output_type": "stream",
     "text": [
      "INFO 03-15 02:44:14 model_runner.py:1562] Graph capturing finished in 19 secs, took 0.27 GiB\n",
      "INFO 03-15 02:44:14 llm_engine.py:436] init engine (profile, create kv cache, warmup model) took 26.31 seconds\n"
     ]
    },
    {
     "name": "stderr",
     "output_type": "stream",
     "text": [
      "\n"
     ]
    }
   ],
   "source": [
    "model = \"/root/autodl-fs/data2/root/.cache/modelscope/hub/Qwen/Qwen2-7B-Instruct-GPTQ-Int8\"\n",
    "\n",
    "llm_with_kv_cache = LLM(model=model,\n",
    "                        gpu_memory_utilization=0.9)"
   ]
  },
  {
   "cell_type": "code",
   "execution_count": 5,
   "id": "b976d42cdf808597",
   "metadata": {},
   "outputs": [
    {
     "name": "stdout",
     "output_type": "stream",
     "text": [
      "bs=1\n"
     ]
    },
    {
     "name": "stderr",
     "output_type": "stream",
     "text": [
      "Processed prompts: 100%|██████████| 1/1 [00:00<00:00,  5.60it/s, est. speed input: 28.14 toks/s, output: 56.27 toks/s]\n"
     ]
    },
    {
     "name": "stdout",
     "output_type": "stream",
     "text": [
      "duration: 0.18344354629516602\n",
      "throughput: 54.512683612808644 tokens/s\n",
      "avg latency: 0.018344354629516602\n",
      "\n",
      "bs=2\n"
     ]
    },
    {
     "name": "stderr",
     "output_type": "stream",
     "text": [
      "Processed prompts: 100%|██████████| 2/2 [00:00<00:00, 13.93it/s, est. speed input: 83.61 toks/s, output: 139.34 toks/s]\n"
     ]
    },
    {
     "name": "stdout",
     "output_type": "stream",
     "text": [
      "duration: 0.14655303955078125\n",
      "throughput: 136.46936331927742 tokens/s\n",
      "avg latency: 0.014655303955078126\n",
      "\n",
      "bs=4\n"
     ]
    },
    {
     "name": "stderr",
     "output_type": "stream",
     "text": [
      "Processed prompts: 100%|██████████| 4/4 [00:00<00:00, 31.84it/s, est. speed input: 175.21 toks/s, output: 318.54 toks/s]\n"
     ]
    },
    {
     "name": "stdout",
     "output_type": "stream",
     "text": [
      "duration: 0.12869691848754883\n",
      "throughput: 310.80775258709804 tokens/s\n",
      "avg latency: 0.012869691848754883\n",
      "\n",
      "bs=8\n"
     ]
    },
    {
     "name": "stderr",
     "output_type": "stream",
     "text": [
      "Processed prompts: 100%|██████████| 8/8 [00:00<00:00, 61.55it/s, est. speed input: 338.80 toks/s, output: 615.96 toks/s]\n"
     ]
    },
    {
     "name": "stdout",
     "output_type": "stream",
     "text": [
      "duration: 0.133500337600708\n",
      "throughput: 599.2494209211328 tokens/s\n",
      "avg latency: 0.0133500337600708\n",
      "\n",
      "bs=16\n"
     ]
    },
    {
     "name": "stderr",
     "output_type": "stream",
     "text": [
      "Processed prompts: 100%|██████████| 16/16 [00:00<00:00, 113.28it/s, est. speed input: 623.34 toks/s, output: 1133.29 toks/s]\n"
     ]
    },
    {
     "name": "stdout",
     "output_type": "stream",
     "text": [
      "duration: 0.1458301544189453\n",
      "throughput: 1097.1667734805185 tokens/s\n",
      "avg latency: 0.014583015441894531\n",
      "\n",
      "bs=32\n"
     ]
    },
    {
     "name": "stderr",
     "output_type": "stream",
     "text": [
      "Processed prompts: 100%|██████████| 32/32 [00:00<00:00, 194.43it/s, est. speed input: 1069.88 toks/s, output: 1945.15 toks/s]\n"
     ]
    },
    {
     "name": "stdout",
     "output_type": "stream",
     "text": [
      "duration: 0.1713111400604248\n",
      "throughput: 1867.94624031531 tokens/s\n",
      "avg latency: 0.017131114006042482\n",
      "\n",
      "bs=64\n"
     ]
    },
    {
     "name": "stderr",
     "output_type": "stream",
     "text": [
      "Processed prompts: 100%|██████████| 64/64 [00:00<00:00, 281.01it/s, est. speed input: 1546.07 toks/s, output: 2810.94 toks/s]\n"
     ]
    },
    {
     "name": "stdout",
     "output_type": "stream",
     "text": [
      "duration: 0.23873066902160645\n",
      "throughput: 2680.845333458503 tokens/s\n",
      "avg latency: 0.023873066902160643\n",
      "\n",
      "bs=128\n"
     ]
    },
    {
     "name": "stderr",
     "output_type": "stream",
     "text": [
      "Processed prompts: 100%|██████████| 128/128 [00:00<00:00, 332.62it/s, est. speed input: 1829.79 toks/s, output: 3326.83 toks/s]"
     ]
    },
    {
     "name": "stdout",
     "output_type": "stream",
     "text": [
      "duration: 0.4046313762664795\n",
      "throughput: 3163.3730725741493 tokens/s\n",
      "avg latency: 0.04046313762664795\n",
      "\n"
     ]
    },
    {
     "name": "stderr",
     "output_type": "stream",
     "text": [
      "\n"
     ]
    }
   ],
   "source": [
    "# observations\n",
    "durations_with_kv_cache = []\n",
    "throughputs_with_kv_cache = []\n",
    "latencies_with_kv_cache = []\n",
    "\n",
    "for batch_size in batch_sizes:\n",
    "    print(f\"bs={batch_size}\")\n",
    "\n",
    "    # generate tokens for batch and record duration\n",
    "    t0 = time.time()\n",
    "    batch_prompt = [\n",
    "        prompts[i % len(prompts)] for i in range(batch_size)\n",
    "    ]\n",
    "\n",
    "    outputs = llm_with_kv_cache.generate(batch_prompt, sampling_params)\n",
    "\n",
    "    duration_s = time.time() - t0\n",
    "\n",
    "    # calculate throughput\n",
    "    ntokens = batch_size * max_tokens\n",
    "    throughput = ntokens / duration_s\n",
    "    avg_latency = duration_s / max_tokens\n",
    "    print(f\"duration: {duration_s}\")\n",
    "    print(f\"throughput: {throughput} tokens/s\")\n",
    "    print(f\"avg latency: {avg_latency}\")\n",
    "    print()\n",
    "\n",
    "    durations_with_kv_cache.append(duration_s)\n",
    "    throughputs_with_kv_cache.append(throughput)\n",
    "    latencies_with_kv_cache.append(avg_latency)"
   ]
  },
  {
   "cell_type": "code",
   "execution_count": 6,
   "id": "c92b948af0f29eab",
   "metadata": {},
   "outputs": [],
   "source": [
    "def render_plot(x, y1, y2, y3, y4, x_label, y1_label, y2_label):\n",
    "    fig, ax1 = plt.subplots()\n",
    "\n",
    "    # plot the first line (FP32 throughput)\n",
    "    color = 'tab:red'\n",
    "    ax1.set_xlabel(x_label)\n",
    "    ax1.set_ylabel(y1_label, color=color)\n",
    "    ax1.plot(x, y1, color=color, label='FP16 Throughput', linestyle='-')\n",
    "    ax1.tick_params(axis='y', labelcolor=color)\n",
    "\n",
    "    # plot the third line (kv cache throughput)\n",
    "    ax1.plot(x, y3, color=color, label='kv cache Throughput', linestyle='--')\n",
    "\n",
    "    # set the x-axis to be log scaled\n",
    "    ax1.set_xscale('log', base=2)\n",
    "\n",
    "    # Instantiate a second axes shares the same x-axis\n",
    "    ax2 = ax1.twinx()\n",
    "    color = 'tab:blue'\n",
    "    ax2.set_ylabel(y2_label, color=color)\n",
    "    ax2.plot(x, y2, color=color, label='FP16 Latency', linestyle='-')\n",
    "    ax2.tick_params(axis='y', labelcolor=color)\n",
    "\n",
    "    # plot the fourth line (kv cache latency)\n",
    "    ax2.plot(x, y4, color=color, label='kv cache Latency', linestyle='--')\n",
    "\n",
    "    # Add legends\n",
    "    fig.legend(loc='upper left', bbox_to_anchor=(0.1, 0.9))\n",
    "\n",
    "    plt.show()"
   ]
  },
  {
   "cell_type": "code",
   "execution_count": 7,
   "id": "f075bb20dbbaa840",
   "metadata": {},
   "outputs": [
    {
     "data": {
      "image/png": "[encoded data removed]",
      "text/plain": [
       "<Figure size 640x480 with 2 Axes>"
      ]
     },
     "metadata": {},
     "output_type": "display_data"
    }
   ],
   "source": [
    "render_plot(\n",
    "    batch_sizes,\n",
    "    throughputs,\n",
    "    latencies,\n",
    "    throughputs_with_kv_cache,\n",
    "    latencies_with_kv_cache,\n",
    "    \"batch size\",\n",
    "    \"throughput (tokens/s)\",\n",
    "    \"avg latency (s)\"\n",
    ")"
   ]
  },
  {
   "cell_type": "code",
   "execution_count": null,
   "id": "bd4cf15c-633d-401b-8e49-96e9df1b5404",
   "metadata": {},
   "outputs": [],
   "source": []
  }
 ],
 "metadata": {
  "kernelspec": {
   "display_name": "Python 3 (ipykernel)",
   "language": "python",
   "name": "python3"
  },
  "language_info": {
   "codemirror_mode": {
    "name": "ipython",
    "version": 3
   },
   "file_extension": ".py",
   "mimetype": "text/x-python",
   "name": "python",
   "nbconvert_exporter": "python",
   "pygments_lexer": "ipython3",
   "version": "3.12.3"
  }
 },
 "nbformat": 4,
 "nbformat_minor": 5
}
