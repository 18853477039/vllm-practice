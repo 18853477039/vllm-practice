{
 "cells": [
  {
   "cell_type": "code",
   "execution_count": 1,
   "id": "initial_id",
   "metadata": {},
   "outputs": [],
   "source": [
    "from vllm import LLM, SamplingParams\n",
    "import matplotlib.pyplot as plt\n",
    "import time"
   ]
  },
  {
   "cell_type": "code",
   "execution_count": 2,
   "id": "96129240f9d177c0",
   "metadata": {},
   "outputs": [],
   "source": [
    "prompts = [\n",
    "    \"Hello, my name is\",\n",
    "    \"The president of the United States is\",\n",
    "    \"The capital of France is\",\n",
    "    \"The future of AI is\",\n",
    "]\n",
    "# constants\n",
    "max_tokens = 50\n",
    "sampling_params = SamplingParams(temperature=0.8, top_p=0.95, max_tokens=max_tokens)"
   ]
  },
  {
   "cell_type": "code",
   "execution_count": 3,
   "id": "cacee99eb075dab2",
   "metadata": {},
   "outputs": [
    {
     "name": "stdout",
     "output_type": "stream",
     "text": [
      "INFO 03-14 14:36:27 __init__.py:207] Automatically detected platform cuda.\n",
      "INFO 03-14 14:36:34 config.py:549] This model supports multiple tasks: {'reward', 'classify', 'embed', 'score', 'generate'}. Defaulting to 'generate'.\n",
      "WARNING 03-14 14:36:34 arg_utils.py:1187] Chunked prefill is enabled by default for models with max_model_len > 32K. Currently, chunked prefill might not work with some features or models. If you encounter any issues, please disable chunked prefill by setting --enable-chunked-prefill=False.\n",
      "INFO 03-14 14:36:34 config.py:1555] Chunked prefill is enabled with max_num_batched_tokens=2048.\n",
      "INFO 03-14 14:36:34 llm_engine.py:234] Initializing a V0 LLM engine (v0.7.3) with config: model='/root/autodl-fs/data2/anti_fraud/models/modelscope/hub/hub/Qwen/Qwen2-7B', speculative_config=None, tokenizer='/root/autodl-fs/data2/anti_fraud/models/modelscope/hub/hub/Qwen/Qwen2-7B', skip_tokenizer_init=False, tokenizer_mode=auto, revision=None, override_neuron_config=None, tokenizer_revision=None, trust_remote_code=False, dtype=torch.bfloat16, max_seq_len=131072, download_dir=None, load_format=LoadFormat.AUTO, tensor_parallel_size=1, pipeline_parallel_size=1, disable_custom_all_reduce=False, quantization=None, enforce_eager=False, kv_cache_dtype=auto,  device_config=cuda, decoding_config=DecodingConfig(guided_decoding_backend='xgrammar'), observability_config=ObservabilityConfig(otlp_traces_endpoint=None, collect_model_forward_time=False, collect_model_execute_time=False), seed=0, served_model_name=/root/autodl-fs/data2/anti_fraud/models/modelscope/hub/hub/Qwen/Qwen2-7B, num_scheduler_steps=1, multi_step_stream_outputs=True, enable_prefix_caching=False, chunked_prefill_enabled=True, use_async_output_proc=True, disable_mm_preprocessor_cache=False, mm_processor_kwargs=None, pooler_config=None, compilation_config={\"splitting_ops\":[],\"compile_sizes\":[],\"cudagraph_capture_sizes\":[256,248,240,232,224,216,208,200,192,184,176,168,160,152,144,136,128,120,112,104,96,88,80,72,64,56,48,40,32,24,16,8,4,2,1],\"max_capture_size\":256}, use_cached_outputs=False, \n",
      "INFO 03-14 14:36:36 cuda.py:229] Using Flash Attention backend.\n",
      "INFO 03-14 14:36:37 model_runner.py:1110] Starting to load model /root/autodl-fs/data2/anti_fraud/models/modelscope/hub/hub/Qwen/Qwen2-7B...\n"
     ]
    },
    {
     "data": {
      "application/vnd.jupyter.widget-view+json": {
       "model_id": "a5f44a71e3fa41328ff554042c7db135",
       "version_major": 2,
       "version_minor": 0
      },
      "text/plain": [
       "Loading safetensors checkpoint shards:   0% Completed | 0/4 [00:00<?, ?it/s]\n"
      ]
     },
     "metadata": {},
     "output_type": "display_data"
    },
    {
     "name": "stdout",
     "output_type": "stream",
     "text": [
      "INFO 03-14 14:41:52 model_runner.py:1115] Loading model weights took 14.2717 GB\n",
      "INFO 03-14 14:41:53 worker.py:267] Memory profiling takes 0.91 seconds\n",
      "INFO 03-14 14:41:53 worker.py:267] the current vLLM instance can use total_gpu_memory (79.33GiB) x gpu_memory_utilization (0.90) = 71.39GiB\n",
      "INFO 03-14 14:41:53 worker.py:267] model weights take 14.27GiB; non_torch_memory takes 0.09GiB; PyTorch activation peak memory takes 1.40GiB; the rest of the memory reserved for KV Cache is 55.63GiB.\n",
      "INFO 03-14 14:41:54 executor_base.py:111] # cuda blocks: 65099, # CPU blocks: 4681\n",
      "INFO 03-14 14:41:54 executor_base.py:116] Maximum concurrency for 131072 tokens per request: 7.95x\n",
      "INFO 03-14 14:41:56 model_runner.py:1434] Capturing cudagraphs for decoding. This may lead to unexpected consequences if the model is not static. To run the model in eager mode, set 'enforce_eager=True' or use '--enforce-eager' in the CLI. If out-of-memory error occurs during cudagraph capture, consider decreasing `gpu_memory_utilization` or switching to eager mode. You can also reduce the `max_num_seqs` as needed to decrease memory usage.\n"
     ]
    },
    {
     "name": "stderr",
     "output_type": "stream",
     "text": [
      "Capturing CUDA graph shapes: 100%|██████████| 35/35 [00:14<00:00,  2.40it/s]"
     ]
    },
    {
     "name": "stdout",
     "output_type": "stream",
     "text": [
      "INFO 03-14 14:42:11 model_runner.py:1562] Graph capturing finished in 15 secs, took 0.78 GiB\n",
      "INFO 03-14 14:42:11 llm_engine.py:436] init engine (profile, create kv cache, warmup model) took 18.74 seconds\n"
     ]
    },
    {
     "name": "stderr",
     "output_type": "stream",
     "text": [
      "\n"
     ]
    }
   ],
   "source": [
    "model_path = \"/root/autodl-fs/data2/anti_fraud/models/modelscope/hub/hub/Qwen/Qwen2-7B\"\n",
    "\n",
    "llm = LLM(model=model_path, gpu_memory_utilization=0.9)\n"
   ]
  },
  {
   "cell_type": "code",
   "execution_count": 4,
   "id": "c5088c84317a8101",
   "metadata": {},
   "outputs": [
    {
     "name": "stdout",
     "output_type": "stream",
     "text": [
      "bs=1\n"
     ]
    },
    {
     "name": "stderr",
     "output_type": "stream",
     "text": [
      "Processed prompts: 100%|██████████| 1/1 [00:00<00:00,  1.57it/s, est. speed input: 7.86 toks/s, output: 78.63 toks/s]\n"
     ]
    },
    {
     "name": "stdout",
     "output_type": "stream",
     "text": [
      "duration: 0.6441123485565186\n",
      "throughput: 77.62620932831359 tokens/s\n",
      "avg latency: 0.01288224697113037\n",
      "\n",
      "bs=2\n"
     ]
    },
    {
     "name": "stderr",
     "output_type": "stream",
     "text": [
      "Processed prompts: 100%|██████████| 2/2 [00:00<00:00,  3.17it/s, est. speed input: 19.01 toks/s, output: 158.41 toks/s]\n"
     ]
    },
    {
     "name": "stdout",
     "output_type": "stream",
     "text": [
      "duration: 0.6360719203948975\n",
      "throughput: 157.2149261641926 tokens/s\n",
      "avg latency: 0.01272143840789795\n",
      "\n",
      "bs=4\n"
     ]
    },
    {
     "name": "stderr",
     "output_type": "stream",
     "text": [
      "Processed prompts: 100%|██████████| 4/4 [00:00<00:00,  6.46it/s, est. speed input: 35.56 toks/s, output: 323.25 toks/s]\n"
     ]
    },
    {
     "name": "stdout",
     "output_type": "stream",
     "text": [
      "duration: 0.6239602565765381\n",
      "throughput: 320.53323571814224 tokens/s\n",
      "avg latency: 0.012479205131530762\n",
      "\n",
      "bs=8\n"
     ]
    },
    {
     "name": "stderr",
     "output_type": "stream",
     "text": [
      "Processed prompts: 100%|██████████| 8/8 [00:00<00:00, 12.27it/s, est. speed input: 67.48 toks/s, output: 613.48 toks/s]\n"
     ]
    },
    {
     "name": "stdout",
     "output_type": "stream",
     "text": [
      "duration: 0.6578361988067627\n",
      "throughput: 608.0541033247378 tokens/s\n",
      "avg latency: 0.013156723976135255\n",
      "\n",
      "bs=16\n"
     ]
    },
    {
     "name": "stderr",
     "output_type": "stream",
     "text": [
      "Processed prompts: 100%|██████████| 16/16 [00:00<00:00, 23.15it/s, est. speed input: 127.34 toks/s, output: 1122.91 toks/s]\n"
     ]
    },
    {
     "name": "stdout",
     "output_type": "stream",
     "text": [
      "duration: 0.6966214179992676\n",
      "throughput: 1148.399947704222 tokens/s\n",
      "avg latency: 0.01393242835998535\n",
      "\n",
      "bs=32\n"
     ]
    },
    {
     "name": "stderr",
     "output_type": "stream",
     "text": [
      "Processed prompts: 100%|██████████| 32/32 [00:00<00:00, 40.61it/s, est. speed input: 223.40 toks/s, output: 2030.90 toks/s]\n"
     ]
    },
    {
     "name": "stdout",
     "output_type": "stream",
     "text": [
      "duration: 0.7952418327331543\n",
      "throughput: 2011.9665919749027 tokens/s\n",
      "avg latency: 0.015904836654663086\n",
      "\n",
      "bs=64\n"
     ]
    },
    {
     "name": "stderr",
     "output_type": "stream",
     "text": [
      "Processed prompts: 100%|██████████| 64/64 [00:00<00:00, 64.36it/s, est. speed input: 354.04 toks/s, output: 3205.40 toks/s]\n"
     ]
    },
    {
     "name": "stdout",
     "output_type": "stream",
     "text": [
      "duration: 1.0049612522125244\n",
      "throughput: 3184.202368951912 tokens/s\n",
      "avg latency: 0.020099225044250487\n",
      "\n",
      "bs=128\n"
     ]
    },
    {
     "name": "stderr",
     "output_type": "stream",
     "text": [
      "Processed prompts: 100%|██████████| 128/128 [00:01<00:00, 96.25it/s, est. speed input: 529.43 toks/s, output: 4811.45 toks/s]\n"
     ]
    },
    {
     "name": "stdout",
     "output_type": "stream",
     "text": [
      "duration: 1.3500497341156006\n",
      "throughput: 4740.56609787976 tokens/s\n",
      "avg latency: 0.027000994682312013\n",
      "\n",
      "bs=256\n"
     ]
    },
    {
     "name": "stderr",
     "output_type": "stream",
     "text": [
      "Processed prompts: 100%|██████████| 256/256 [00:02<00:00, 111.41it/s, est. speed input: 612.80 toks/s, output: 5557.83 toks/s]\n"
     ]
    },
    {
     "name": "stdout",
     "output_type": "stream",
     "text": [
      "duration: 2.33392596244812\n",
      "throughput: 5484.321356352591 tokens/s\n",
      "avg latency: 0.0466785192489624\n",
      "\n",
      "bs=512\n"
     ]
    },
    {
     "name": "stderr",
     "output_type": "stream",
     "text": [
      "Processed prompts: 100%|██████████| 512/512 [00:04<00:00, 110.11it/s, est. speed input: 605.61 toks/s, output: 5502.93 toks/s]"
     ]
    },
    {
     "name": "stdout",
     "output_type": "stream",
     "text": [
      "duration: 4.719951868057251\n",
      "throughput: 5423.784122302301 tokens/s\n",
      "avg latency: 0.09439903736114502\n",
      "\n"
     ]
    },
    {
     "name": "stderr",
     "output_type": "stream",
     "text": [
      "\n"
     ]
    }
   ],
   "source": [
    "# observations\n",
    "durations = []\n",
    "throughputs = []\n",
    "latencies = []\n",
    "\n",
    "batch_sizes = [2**p for p in range(10)]\n",
    "for batch_size in batch_sizes:\n",
    "    print(f\"bs={batch_size}\")\n",
    "\n",
    "    # generate tokens for batch and record duration\n",
    "    t0 = time.time()\n",
    "    batch_prompt = [\n",
    "        prompts[i % len(prompts)] for i in range(batch_size)\n",
    "    ]\n",
    "\n",
    "    outputs = llm.generate(batch_prompt, sampling_params)\n",
    "\n",
    "    duration_s = time.time() - t0\n",
    "\n",
    "    # calculate throughput\n",
    "    ntokens = batch_size * max_tokens\n",
    "    throughput = ntokens / duration_s\n",
    "    avg_latency = duration_s / max_tokens\n",
    "    print(f\"duration: {duration_s}\")\n",
    "    print(f\"throughput: {throughput} tokens/s\")\n",
    "    print(f\"avg latency: {avg_latency}\")\n",
    "    print()\n",
    "\n",
    "    durations.append(duration_s)\n",
    "    throughputs.append(throughput)\n",
    "    latencies.append(avg_latency)\n"
   ]
  },
  {
   "cell_type": "code",
   "execution_count": 5,
   "id": "23c2b9ee314b6d3a",
   "metadata": {},
   "outputs": [],
   "source": [
    "# save observations and restart kernel\n",
    "# save as json\n",
    "import json\n",
    "\n",
    "data = {\n",
    "    \"durations\": durations,\n",
    "    \"throughputs\": throughputs,\n",
    "    \"latencies\": latencies,\n",
    "    \"batch_sizes\": batch_sizes,\n",
    "    \"prompts\": prompts,\n",
    "    \"max_tokens\": max_tokens\n",
    "    \n",
    "}\n",
    "\n",
    "with open(\"single_gpu_inference_observation.json\", \"w\") as f:\n",
    "    json.dump(data, f)\n",
    "\n"
   ]
  },
  {
   "cell_type": "code",
   "execution_count": 1,
   "id": "a733769a33d04026",
   "metadata": {},
   "outputs": [],
   "source": [
    "import json\n",
    "\n",
    "# Read the data from the JSON file\n",
    "with open(\"single_gpu_inference_observation.json\", \"r\") as f:\n",
    "    data = json.load(f)\n",
    "\n",
    "# Restore the lists\n",
    "durations = data[\"durations\"]\n",
    "throughputs = data[\"throughputs\"]\n",
    "latencies = data[\"latencies\"]\n",
    "batch_sizes = data[\"batch_sizes\"]\n",
    "prompts = data[\"prompts\"]\n",
    "max_tokens = data[\"max_tokens\"]"
   ]
  },
  {
   "cell_type": "code",
   "execution_count": 2,
   "id": "bc6df4e8-114a-44a0-9398-f16136ad230e",
   "metadata": {},
   "outputs": [],
   "source": [
    "from vllm import LLM, SamplingParams\n",
    "import matplotlib.pyplot as plt\n",
    "import time"
   ]
  },
  {
   "cell_type": "code",
   "execution_count": 3,
   "id": "09e23778-32e5-4fa2-b941-b3eb2cd4a90e",
   "metadata": {},
   "outputs": [],
   "source": [
    "sampling_params = SamplingParams(temperature=0.8, top_p=0.95, max_tokens=max_tokens)"
   ]
  },
  {
   "cell_type": "code",
   "execution_count": 4,
   "id": "97839e9c-19d2-4418-b737-0d26654c0586",
   "metadata": {},
   "outputs": [
    {
     "name": "stdout",
     "output_type": "stream",
     "text": [
      "INFO 03-14 14:43:39 __init__.py:207] Automatically detected platform cuda.\n",
      "INFO 03-14 14:43:46 config.py:549] This model supports multiple tasks: {'classify', 'embed', 'reward', 'score', 'generate'}. Defaulting to 'generate'.\n",
      "INFO 03-14 14:43:46 config.py:1382] Defaulting to use mp for distributed inference\n",
      "WARNING 03-14 14:43:46 arg_utils.py:1187] Chunked prefill is enabled by default for models with max_model_len > 32K. Currently, chunked prefill might not work with some features or models. If you encounter any issues, please disable chunked prefill by setting --enable-chunked-prefill=False.\n",
      "INFO 03-14 14:43:46 config.py:1555] Chunked prefill is enabled with max_num_batched_tokens=2048.\n",
      "INFO 03-14 14:43:46 llm_engine.py:234] Initializing a V0 LLM engine (v0.7.3) with config: model='/root/autodl-fs/data2/anti_fraud/models/modelscope/hub/hub/Qwen/Qwen2-7B', speculative_config=None, tokenizer='/root/autodl-fs/data2/anti_fraud/models/modelscope/hub/hub/Qwen/Qwen2-7B', skip_tokenizer_init=False, tokenizer_mode=auto, revision=None, override_neuron_config=None, tokenizer_revision=None, trust_remote_code=False, dtype=torch.bfloat16, max_seq_len=131072, download_dir=None, load_format=LoadFormat.AUTO, tensor_parallel_size=2, pipeline_parallel_size=1, disable_custom_all_reduce=False, quantization=None, enforce_eager=False, kv_cache_dtype=auto,  device_config=cuda, decoding_config=DecodingConfig(guided_decoding_backend='xgrammar'), observability_config=ObservabilityConfig(otlp_traces_endpoint=None, collect_model_forward_time=False, collect_model_execute_time=False), seed=0, served_model_name=/root/autodl-fs/data2/anti_fraud/models/modelscope/hub/hub/Qwen/Qwen2-7B, num_scheduler_steps=1, multi_step_stream_outputs=True, enable_prefix_caching=False, chunked_prefill_enabled=True, use_async_output_proc=True, disable_mm_preprocessor_cache=False, mm_processor_kwargs=None, pooler_config=None, compilation_config={\"splitting_ops\":[],\"compile_sizes\":[],\"cudagraph_capture_sizes\":[256,248,240,232,224,216,208,200,192,184,176,168,160,152,144,136,128,120,112,104,96,88,80,72,64,56,48,40,32,24,16,8,4,2,1],\"max_capture_size\":256}, use_cached_outputs=False, \n",
      "INFO 03-14 14:43:47 custom_cache_manager.py:19] Setting Triton cache manager to: vllm.triton_utils.custom_cache_manager:CustomCacheManager\n",
      "\u001b[1;36m(VllmWorkerProcess pid=3798)\u001b[0;0m INFO 03-14 14:43:47 multiproc_worker_utils.py:229] Worker ready; awaiting tasks\n",
      "INFO 03-14 14:43:48 cuda.py:229] Using Flash Attention backend.\n",
      "\u001b[1;36m(VllmWorkerProcess pid=3798)\u001b[0;0m INFO 03-14 14:43:48 cuda.py:229] Using Flash Attention backend.\n",
      "INFO 03-14 14:43:48 utils.py:916] Found nccl from library libnccl.so.2\n",
      "INFO 03-14 14:43:48 pynccl.py:69] vLLM is using nccl==2.21.5\n",
      "\u001b[1;36m(VllmWorkerProcess pid=3798)\u001b[0;0m INFO 03-14 14:43:48 utils.py:916] Found nccl from library libnccl.so.2\n",
      "\u001b[1;36m(VllmWorkerProcess pid=3798)\u001b[0;0m INFO 03-14 14:43:48 pynccl.py:69] vLLM is using nccl==2.21.5\n",
      "INFO 03-14 14:43:49 custom_all_reduce_utils.py:244] reading GPU P2P access cache from /root/.cache/vllm/gpu_p2p_access_cache_for_0,1.json\n",
      "\u001b[1;36m(VllmWorkerProcess pid=3798)\u001b[0;0m INFO 03-14 14:43:49 custom_all_reduce_utils.py:244] reading GPU P2P access cache from /root/.cache/vllm/gpu_p2p_access_cache_for_0,1.json\n",
      "INFO 03-14 14:43:49 shm_broadcast.py:258] vLLM message queue communication handle: Handle(connect_ip='127.0.0.1', local_reader_ranks=[1], buffer_handle=(1, 4194304, 6, 'psm_b6b2ef4d'), local_subscribe_port=51421, remote_subscribe_port=None)\n",
      "INFO 03-14 14:43:49 model_runner.py:1110] Starting to load model /root/autodl-fs/data2/anti_fraud/models/modelscope/hub/hub/Qwen/Qwen2-7B...\n",
      "\u001b[1;36m(VllmWorkerProcess pid=3798)\u001b[0;0m INFO 03-14 14:43:49 model_runner.py:1110] Starting to load model /root/autodl-fs/data2/anti_fraud/models/modelscope/hub/hub/Qwen/Qwen2-7B...\n"
     ]
    },
    {
     "data": {
      "application/vnd.jupyter.widget-view+json": {
       "model_id": "51c2202156514f2386183a58e8f1194e",
       "version_major": 2,
       "version_minor": 0
      },
      "text/plain": [
       "Loading safetensors checkpoint shards:   0% Completed | 0/4 [00:00<?, ?it/s]\n"
      ]
     },
     "metadata": {},
     "output_type": "display_data"
    },
    {
     "name": "stdout",
     "output_type": "stream",
     "text": [
      "INFO 03-14 14:48:09 model_runner.py:1115] Loading model weights took 7.1441 GB\n",
      "\u001b[1;36m(VllmWorkerProcess pid=3798)\u001b[0;0m INFO 03-14 14:48:09 model_runner.py:1115] Loading model weights took 7.1441 GB\n",
      "\u001b[1;36m(VllmWorkerProcess pid=3798)\u001b[0;0m INFO 03-14 14:48:12 worker.py:267] Memory profiling takes 2.93 seconds\n",
      "\u001b[1;36m(VllmWorkerProcess pid=3798)\u001b[0;0m INFO 03-14 14:48:12 worker.py:267] the current vLLM instance can use total_gpu_memory (79.33GiB) x gpu_memory_utilization (0.90) = 71.39GiB\n",
      "\u001b[1;36m(VllmWorkerProcess pid=3798)\u001b[0;0m INFO 03-14 14:48:12 worker.py:267] model weights take 7.14GiB; non_torch_memory takes 1.54GiB; PyTorch activation peak memory takes 0.19GiB; the rest of the memory reserved for KV Cache is 62.52GiB.\n",
      "INFO 03-14 14:48:12 worker.py:267] Memory profiling takes 2.96 seconds\n",
      "INFO 03-14 14:48:12 worker.py:267] the current vLLM instance can use total_gpu_memory (79.33GiB) x gpu_memory_utilization (0.90) = 71.39GiB\n",
      "INFO 03-14 14:48:12 worker.py:267] model weights take 7.14GiB; non_torch_memory takes 1.54GiB; PyTorch activation peak memory takes 1.40GiB; the rest of the memory reserved for KV Cache is 61.31GiB.\n",
      "INFO 03-14 14:48:12 executor_base.py:111] # cuda blocks: 143494, # CPU blocks: 9362\n",
      "INFO 03-14 14:48:12 executor_base.py:116] Maximum concurrency for 131072 tokens per request: 17.52x\n",
      "INFO 03-14 14:48:15 model_runner.py:1434] Capturing cudagraphs for decoding. This may lead to unexpected consequences if the model is not static. To run the model in eager mode, set 'enforce_eager=True' or use '--enforce-eager' in the CLI. If out-of-memory error occurs during cudagraph capture, consider decreasing `gpu_memory_utilization` or switching to eager mode. You can also reduce the `max_num_seqs` as needed to decrease memory usage.\n",
      "\u001b[1;36m(VllmWorkerProcess pid=3798)\u001b[0;0m INFO 03-14 14:48:15 model_runner.py:1434] Capturing cudagraphs for decoding. This may lead to unexpected consequences if the model is not static. To run the model in eager mode, set 'enforce_eager=True' or use '--enforce-eager' in the CLI. If out-of-memory error occurs during cudagraph capture, consider decreasing `gpu_memory_utilization` or switching to eager mode. You can also reduce the `max_num_seqs` as needed to decrease memory usage.\n"
     ]
    },
    {
     "name": "stderr",
     "output_type": "stream",
     "text": [
      "Capturing CUDA graph shapes: 100%|██████████| 35/35 [00:15<00:00,  2.30it/s]"
     ]
    },
    {
     "name": "stdout",
     "output_type": "stream",
     "text": [
      "INFO 03-14 14:48:31 custom_all_reduce.py:226] Registering 1995 cuda graph addresses\n"
     ]
    },
    {
     "name": "stderr",
     "output_type": "stream",
     "text": [
      "\n"
     ]
    },
    {
     "name": "stdout",
     "output_type": "stream",
     "text": [
      "\u001b[1;36m(VllmWorkerProcess pid=3798)\u001b[0;0m INFO 03-14 14:48:33 custom_all_reduce.py:226] Registering 1995 cuda graph addresses\n",
      "\u001b[1;36m(VllmWorkerProcess pid=3798)\u001b[0;0m INFO 03-14 14:48:33 model_runner.py:1562] Graph capturing finished in 18 secs, took 0.90 GiB\n",
      "INFO 03-14 14:48:34 model_runner.py:1562] Graph capturing finished in 18 secs, took 0.90 GiB\n",
      "INFO 03-14 14:48:34 llm_engine.py:436] init engine (profile, create kv cache, warmup model) took 24.86 seconds\n"
     ]
    }
   ],
   "source": [
    "# 使用两张GPU\n",
    "model_path = \"/root/autodl-fs/data2/anti_fraud/models/modelscope/hub/hub/Qwen/Qwen2-7B\"\n",
    "\n",
    "llm_with_2_gpu = LLM(model=model_path, gpu_memory_utilization=0.9, tensor_parallel_size=2)"
   ]
  },
  {
   "cell_type": "code",
   "execution_count": 5,
   "id": "37cfc4554eb6c41",
   "metadata": {},
   "outputs": [
    {
     "name": "stdout",
     "output_type": "stream",
     "text": [
      "bs=1\n"
     ]
    },
    {
     "name": "stderr",
     "output_type": "stream",
     "text": [
      "Processed prompts: 100%|██████████| 1/1 [00:00<00:00,  1.36it/s, est. speed input: 6.81 toks/s, output: 68.10 toks/s]\n"
     ]
    },
    {
     "name": "stdout",
     "output_type": "stream",
     "text": [
      "duration: 0.7430768013000488\n",
      "throughput: 67.28779570634231 tokens/s\n",
      "avg latency: 0.014861536026000977\n",
      "\n",
      "bs=2\n"
     ]
    },
    {
     "name": "stderr",
     "output_type": "stream",
     "text": [
      "Processed prompts: 100%|██████████| 2/2 [00:00<00:00,  4.11it/s, est. speed input: 24.70 toks/s, output: 205.79 toks/s]\n"
     ]
    },
    {
     "name": "stdout",
     "output_type": "stream",
     "text": [
      "duration: 0.4903137683868408\n",
      "throughput: 203.95103390428028 tokens/s\n",
      "avg latency: 0.009806275367736816\n",
      "\n",
      "bs=4\n"
     ]
    },
    {
     "name": "stderr",
     "output_type": "stream",
     "text": [
      "Processed prompts: 100%|██████████| 4/4 [00:00<00:00,  8.43it/s, est. speed input: 46.38 toks/s, output: 421.59 toks/s]\n"
     ]
    },
    {
     "name": "stdout",
     "output_type": "stream",
     "text": [
      "duration: 0.47920703887939453\n",
      "throughput: 417.3561399842781 tokens/s\n",
      "avg latency: 0.009584140777587891\n",
      "\n",
      "bs=8\n"
     ]
    },
    {
     "name": "stderr",
     "output_type": "stream",
     "text": [
      "Processed prompts: 100%|██████████| 8/8 [00:00<00:00, 14.87it/s, est. speed input: 81.81 toks/s, output: 743.68 toks/s]\n"
     ]
    },
    {
     "name": "stdout",
     "output_type": "stream",
     "text": [
      "duration: 0.5434269905090332\n",
      "throughput: 736.0694389237387 tokens/s\n",
      "avg latency: 0.010868539810180664\n",
      "\n",
      "bs=16\n"
     ]
    },
    {
     "name": "stderr",
     "output_type": "stream",
     "text": [
      "Processed prompts: 100%|██████████| 16/16 [00:00<00:00, 27.71it/s, est. speed input: 152.40 toks/s, output: 1343.89 toks/s]\n"
     ]
    },
    {
     "name": "stdout",
     "output_type": "stream",
     "text": [
      "duration: 0.5844290256500244\n",
      "throughput: 1368.8574059274508 tokens/s\n",
      "avg latency: 0.011688580513000488\n",
      "\n",
      "bs=32\n"
     ]
    },
    {
     "name": "stderr",
     "output_type": "stream",
     "text": [
      "Processed prompts: 100%|██████████| 32/32 [00:00<00:00, 51.21it/s, est. speed input: 281.69 toks/s, output: 2560.77 toks/s]\n"
     ]
    },
    {
     "name": "stdout",
     "output_type": "stream",
     "text": [
      "duration: 0.6342761516571045\n",
      "throughput: 2522.5605531909937 tokens/s\n",
      "avg latency: 0.01268552303314209\n",
      "\n",
      "bs=64\n"
     ]
    },
    {
     "name": "stderr",
     "output_type": "stream",
     "text": [
      "Processed prompts: 100%|██████████| 64/64 [00:00<00:00, 80.92it/s, est. speed input: 445.09 toks/s, output: 4029.81 toks/s]\n"
     ]
    },
    {
     "name": "stdout",
     "output_type": "stream",
     "text": [
      "duration: 0.8056807518005371\n",
      "throughput: 3971.796512264483 tokens/s\n",
      "avg latency: 0.01611361503601074\n",
      "\n",
      "bs=128\n"
     ]
    },
    {
     "name": "stderr",
     "output_type": "stream",
     "text": [
      "Processed prompts: 100%|██████████| 128/128 [00:01<00:00, 111.77it/s, est. speed input: 614.78 toks/s, output: 5588.87 toks/s]\n"
     ]
    },
    {
     "name": "stdout",
     "output_type": "stream",
     "text": [
      "duration: 1.1694936752319336\n",
      "throughput: 5472.453708422796 tokens/s\n",
      "avg latency: 0.023389873504638673\n",
      "\n",
      "bs=256\n"
     ]
    },
    {
     "name": "stderr",
     "output_type": "stream",
     "text": [
      "Processed prompts: 100%|██████████| 256/256 [00:01<00:00, 134.96it/s, est. speed input: 742.32 toks/s, output: 6741.51 toks/s]\n"
     ]
    },
    {
     "name": "stdout",
     "output_type": "stream",
     "text": [
      "duration: 1.9360041618347168\n",
      "throughput: 6611.556035018885 tokens/s\n",
      "avg latency: 0.03872008323669433\n",
      "\n",
      "bs=512\n"
     ]
    },
    {
     "name": "stderr",
     "output_type": "stream",
     "text": [
      "Processed prompts: 100%|██████████| 512/512 [00:03<00:00, 133.19it/s, est. speed input: 732.60 toks/s, output: 6658.91 toks/s]"
     ]
    },
    {
     "name": "stdout",
     "output_type": "stream",
     "text": [
      "duration: 3.912261724472046\n",
      "throughput: 6543.529498516535 tokens/s\n",
      "avg latency: 0.07824523448944092\n",
      "\n"
     ]
    },
    {
     "name": "stderr",
     "output_type": "stream",
     "text": [
      "\n"
     ]
    }
   ],
   "source": [
    "# observations\n",
    "durations_2_gpu = []\n",
    "throughputs_2_gpu = []\n",
    "latencies_2_gpu = []\n",
    "\n",
    "for batch_size in batch_sizes:\n",
    "    print(f\"bs={batch_size}\")\n",
    "\n",
    "    # generate tokens for batch and record duration\n",
    "    t0 = time.time()\n",
    "    batch_prompt = [\n",
    "        prompts[i % len(prompts)] for i in range(batch_size)\n",
    "    ]\n",
    "\n",
    "    outputs = llm_with_2_gpu.generate(batch_prompt, sampling_params)\n",
    "\n",
    "    duration_s = time.time() - t0\n",
    "\n",
    "    # calculate throughput\n",
    "    ntokens = batch_size * max_tokens\n",
    "    throughput = ntokens / duration_s\n",
    "    avg_latency = duration_s / max_tokens\n",
    "    print(f\"duration: {duration_s}\")\n",
    "    print(f\"throughput: {throughput} tokens/s\")\n",
    "    print(f\"avg latency: {avg_latency}\")\n",
    "    print()\n",
    "\n",
    "    durations_2_gpu.append(duration_s)\n",
    "    throughputs_2_gpu.append(throughput)\n",
    "    latencies_2_gpu.append(avg_latency)"
   ]
  },
  {
   "cell_type": "code",
   "execution_count": 6,
   "id": "cbc385392f7a486b",
   "metadata": {},
   "outputs": [],
   "source": [
    "def render_plot(x, y1, y2, y3, y4, x_label, y1_label, y2_label):\n",
    "    fig, ax1 = plt.subplots()\n",
    "\n",
    "    # plot the first line (FP32 throughput)\n",
    "    color = 'tab:red'\n",
    "    ax1.set_xlabel(x_label)\n",
    "    ax1.set_ylabel(y1_label, color=color)\n",
    "    ax1.plot(x, y1, color=color, label='FP16 Throughput', linestyle='-')\n",
    "    ax1.tick_params(axis='y', labelcolor=color)\n",
    "\n",
    "    # plot the third line (AWQ throughput)\n",
    "    ax1.plot(x, y3, color=color, label='gpu*2 Throughput', linestyle='--')\n",
    "\n",
    "    # set the x-axis to be log scaled\n",
    "    ax1.set_xscale('log', base=2)\n",
    "\n",
    "    # Instantiate a second axes shares the same x-axis\n",
    "    ax2 = ax1.twinx()\n",
    "    color = 'tab:blue'\n",
    "    ax2.set_ylabel(y2_label, color=color)\n",
    "    ax2.plot(x, y2, color=color, label='FP16 Latency', linestyle='-')\n",
    "    ax2.tick_params(axis='y', labelcolor=color)\n",
    "\n",
    "    # plot the fourth line (AWQ latency)\n",
    "    ax2.plot(x, y4, color=color, label='gpu*2 Latency', linestyle='--')\n",
    "\n",
    "    # Add legends\n",
    "    fig.legend(loc='upper left', bbox_to_anchor=(0.1, 0.9))\n",
    "\n",
    "    plt.show()"
   ]
  },
  {
   "cell_type": "code",
   "execution_count": 7,
   "id": "609daad1b940105",
   "metadata": {},
   "outputs": [
    {
     "data": {
      "image/png": "[encoded data removed]",
      "text/plain": [
       "<Figure size 640x480 with 2 Axes>"
      ]
     },
     "metadata": {},
     "output_type": "display_data"
    }
   ],
   "source": [
    "render_plot(\n",
    "    batch_sizes,\n",
    "    throughputs,\n",
    "    latencies,\n",
    "    throughputs_2_gpu,\n",
    "    latencies_2_gpu,\n",
    "    \"batch size\",\n",
    "    \"throughput (tokens/s)\",\n",
    "    \"avg latency (s)\"\n",
    ")"
   ]
  },
  {
   "cell_type": "code",
   "execution_count": null,
   "id": "458a76c8-cc4a-45de-9366-46c6d9f8cc66",
   "metadata": {},
   "outputs": [],
   "source": []
  }
 ],
 "metadata": {
  "kernelspec": {
   "display_name": "Python 3 (ipykernel)",
   "language": "python",
   "name": "python3"
  },
  "language_info": {
   "codemirror_mode": {
    "name": "ipython",
    "version": 3
   },
   "file_extension": ".py",
   "mimetype": "text/x-python",
   "name": "python",
   "nbconvert_exporter": "python",
   "pygments_lexer": "ipython3",
   "version": "3.12.3"
  }
 },
 "nbformat": 4,
 "nbformat_minor": 5
}
